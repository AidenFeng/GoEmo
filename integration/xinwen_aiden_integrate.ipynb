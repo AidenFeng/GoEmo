{
  "nbformat": 4,
  "nbformat_minor": 0,
  "metadata": {
    "colab": {
      "name": "xinwen_aiden_integrate.ipynb",
      "provenance": [],
      "collapsed_sections": [],
      "toc_visible": true,
      "machine_shape": "hm"
    },
    "kernelspec": {
      "name": "python3",
      "display_name": "Python 3"
    },
    "language_info": {
      "name": "python"
    },
    "accelerator": "GPU",
    "widgets": {
      "application/vnd.jupyter.widget-state+json": {
        "49281609c9c749088365b50efa00aa72": {
          "model_module": "@jupyter-widgets/controls",
          "model_name": "HBoxModel",
          "state": {
            "_view_name": "HBoxView",
            "_dom_classes": [],
            "_model_name": "HBoxModel",
            "_view_module": "@jupyter-widgets/controls",
            "_model_module_version": "1.5.0",
            "_view_count": null,
            "_view_module_version": "1.5.0",
            "box_style": "",
            "layout": "IPY_MODEL_6e1d6f55b4de474ea00a9c307c23350e",
            "_model_module": "@jupyter-widgets/controls",
            "children": [
              "IPY_MODEL_cedaca5c0fed4b7fa8d05623f90c0605",
              "IPY_MODEL_a248d2e9e2d34808a1139fd53e74db6e"
            ]
          }
        },
        "6e1d6f55b4de474ea00a9c307c23350e": {
          "model_module": "@jupyter-widgets/base",
          "model_name": "LayoutModel",
          "state": {
            "_view_name": "LayoutView",
            "grid_template_rows": null,
            "right": null,
            "justify_content": null,
            "_view_module": "@jupyter-widgets/base",
            "overflow": null,
            "_model_module_version": "1.2.0",
            "_view_count": null,
            "flex_flow": null,
            "width": null,
            "min_width": null,
            "border": null,
            "align_items": null,
            "bottom": null,
            "_model_module": "@jupyter-widgets/base",
            "top": null,
            "grid_column": null,
            "overflow_y": null,
            "overflow_x": null,
            "grid_auto_flow": null,
            "grid_area": null,
            "grid_template_columns": null,
            "flex": null,
            "_model_name": "LayoutModel",
            "justify_items": null,
            "grid_row": null,
            "max_height": null,
            "align_content": null,
            "visibility": null,
            "align_self": null,
            "height": null,
            "min_height": null,
            "padding": null,
            "grid_auto_rows": null,
            "grid_gap": null,
            "max_width": null,
            "order": null,
            "_view_module_version": "1.2.0",
            "grid_template_areas": null,
            "object_position": null,
            "object_fit": null,
            "grid_auto_columns": null,
            "margin": null,
            "display": null,
            "left": null
          }
        },
        "cedaca5c0fed4b7fa8d05623f90c0605": {
          "model_module": "@jupyter-widgets/controls",
          "model_name": "FloatProgressModel",
          "state": {
            "_view_name": "ProgressView",
            "style": "IPY_MODEL_f70531d6e8fb4e859be0ab694f5a0a22",
            "_dom_classes": [],
            "description": "100%",
            "_model_name": "FloatProgressModel",
            "bar_style": "success",
            "max": 170,
            "_view_module": "@jupyter-widgets/controls",
            "_model_module_version": "1.5.0",
            "value": 170,
            "_view_count": null,
            "_view_module_version": "1.5.0",
            "orientation": "horizontal",
            "min": 0,
            "description_tooltip": null,
            "_model_module": "@jupyter-widgets/controls",
            "layout": "IPY_MODEL_4720959b828d430f8957ab73dc5db553"
          }
        },
        "a248d2e9e2d34808a1139fd53e74db6e": {
          "model_module": "@jupyter-widgets/controls",
          "model_name": "HTMLModel",
          "state": {
            "_view_name": "HTMLView",
            "style": "IPY_MODEL_8464c44978014ac8ac38c822bde97860",
            "_dom_classes": [],
            "description": "",
            "_model_name": "HTMLModel",
            "placeholder": "​",
            "_view_module": "@jupyter-widgets/controls",
            "_model_module_version": "1.5.0",
            "value": " 170/170 [00:31&lt;00:00,  5.33it/s]",
            "_view_count": null,
            "_view_module_version": "1.5.0",
            "description_tooltip": null,
            "_model_module": "@jupyter-widgets/controls",
            "layout": "IPY_MODEL_7c9e1d7a73544dea889a19b4f509ad8b"
          }
        },
        "f70531d6e8fb4e859be0ab694f5a0a22": {
          "model_module": "@jupyter-widgets/controls",
          "model_name": "ProgressStyleModel",
          "state": {
            "_view_name": "StyleView",
            "_model_name": "ProgressStyleModel",
            "description_width": "initial",
            "_view_module": "@jupyter-widgets/base",
            "_model_module_version": "1.5.0",
            "_view_count": null,
            "_view_module_version": "1.2.0",
            "bar_color": null,
            "_model_module": "@jupyter-widgets/controls"
          }
        },
        "4720959b828d430f8957ab73dc5db553": {
          "model_module": "@jupyter-widgets/base",
          "model_name": "LayoutModel",
          "state": {
            "_view_name": "LayoutView",
            "grid_template_rows": null,
            "right": null,
            "justify_content": null,
            "_view_module": "@jupyter-widgets/base",
            "overflow": null,
            "_model_module_version": "1.2.0",
            "_view_count": null,
            "flex_flow": null,
            "width": null,
            "min_width": null,
            "border": null,
            "align_items": null,
            "bottom": null,
            "_model_module": "@jupyter-widgets/base",
            "top": null,
            "grid_column": null,
            "overflow_y": null,
            "overflow_x": null,
            "grid_auto_flow": null,
            "grid_area": null,
            "grid_template_columns": null,
            "flex": null,
            "_model_name": "LayoutModel",
            "justify_items": null,
            "grid_row": null,
            "max_height": null,
            "align_content": null,
            "visibility": null,
            "align_self": null,
            "height": null,
            "min_height": null,
            "padding": null,
            "grid_auto_rows": null,
            "grid_gap": null,
            "max_width": null,
            "order": null,
            "_view_module_version": "1.2.0",
            "grid_template_areas": null,
            "object_position": null,
            "object_fit": null,
            "grid_auto_columns": null,
            "margin": null,
            "display": null,
            "left": null
          }
        },
        "8464c44978014ac8ac38c822bde97860": {
          "model_module": "@jupyter-widgets/controls",
          "model_name": "DescriptionStyleModel",
          "state": {
            "_view_name": "StyleView",
            "_model_name": "DescriptionStyleModel",
            "description_width": "",
            "_view_module": "@jupyter-widgets/base",
            "_model_module_version": "1.5.0",
            "_view_count": null,
            "_view_module_version": "1.2.0",
            "_model_module": "@jupyter-widgets/controls"
          }
        },
        "7c9e1d7a73544dea889a19b4f509ad8b": {
          "model_module": "@jupyter-widgets/base",
          "model_name": "LayoutModel",
          "state": {
            "_view_name": "LayoutView",
            "grid_template_rows": null,
            "right": null,
            "justify_content": null,
            "_view_module": "@jupyter-widgets/base",
            "overflow": null,
            "_model_module_version": "1.2.0",
            "_view_count": null,
            "flex_flow": null,
            "width": null,
            "min_width": null,
            "border": null,
            "align_items": null,
            "bottom": null,
            "_model_module": "@jupyter-widgets/base",
            "top": null,
            "grid_column": null,
            "overflow_y": null,
            "overflow_x": null,
            "grid_auto_flow": null,
            "grid_area": null,
            "grid_template_columns": null,
            "flex": null,
            "_model_name": "LayoutModel",
            "justify_items": null,
            "grid_row": null,
            "max_height": null,
            "align_content": null,
            "visibility": null,
            "align_self": null,
            "height": null,
            "min_height": null,
            "padding": null,
            "grid_auto_rows": null,
            "grid_gap": null,
            "max_width": null,
            "order": null,
            "_view_module_version": "1.2.0",
            "grid_template_areas": null,
            "object_position": null,
            "object_fit": null,
            "grid_auto_columns": null,
            "margin": null,
            "display": null,
            "left": null
          }
        }
      }
    }
  },
  "cells": [
    {
      "cell_type": "markdown",
      "metadata": {
        "id": "55k8J-h8Uz5K"
      },
      "source": [
        "## Install and import"
      ]
    },
    {
      "cell_type": "code",
      "metadata": {
        "colab": {
          "base_uri": "https://localhost:8080/"
        },
        "id": "TKUheZwrAjys",
        "outputId": "2e7787fe-551b-4539-ffc2-c5ced1c8fdde"
      },
      "source": [
        "!pip install datasets transformers attrdict"
      ],
      "execution_count": 55,
      "outputs": [
        {
          "output_type": "stream",
          "text": [
            "Requirement already satisfied: datasets in /usr/local/lib/python3.7/dist-packages (1.6.2)\n",
            "Requirement already satisfied: transformers in /usr/local/lib/python3.7/dist-packages (4.5.1)\n",
            "Requirement already satisfied: attrdict in /usr/local/lib/python3.7/dist-packages (2.0.1)\n",
            "Requirement already satisfied: huggingface-hub<0.1.0 in /usr/local/lib/python3.7/dist-packages (from datasets) (0.0.8)\n",
            "Requirement already satisfied: fsspec in /usr/local/lib/python3.7/dist-packages (from datasets) (2021.4.0)\n",
            "Requirement already satisfied: multiprocess in /usr/local/lib/python3.7/dist-packages (from datasets) (0.70.11.1)\n",
            "Requirement already satisfied: xxhash in /usr/local/lib/python3.7/dist-packages (from datasets) (2.0.2)\n",
            "Requirement already satisfied: numpy>=1.17 in /usr/local/lib/python3.7/dist-packages (from datasets) (1.19.5)\n",
            "Requirement already satisfied: pandas in /usr/local/lib/python3.7/dist-packages (from datasets) (1.1.5)\n",
            "Requirement already satisfied: requests>=2.19.0 in /usr/local/lib/python3.7/dist-packages (from datasets) (2.23.0)\n",
            "Requirement already satisfied: tqdm<4.50.0,>=4.27 in /usr/local/lib/python3.7/dist-packages (from datasets) (4.41.1)\n",
            "Requirement already satisfied: packaging in /usr/local/lib/python3.7/dist-packages (from datasets) (20.9)\n",
            "Requirement already satisfied: dill in /usr/local/lib/python3.7/dist-packages (from datasets) (0.3.3)\n",
            "Requirement already satisfied: importlib-metadata; python_version < \"3.8\" in /usr/local/lib/python3.7/dist-packages (from datasets) (3.10.1)\n",
            "Requirement already satisfied: pyarrow>=1.0.0<4.0.0 in /usr/local/lib/python3.7/dist-packages (from datasets) (3.0.0)\n",
            "Requirement already satisfied: regex!=2019.12.17 in /usr/local/lib/python3.7/dist-packages (from transformers) (2019.12.20)\n",
            "Requirement already satisfied: filelock in /usr/local/lib/python3.7/dist-packages (from transformers) (3.0.12)\n",
            "Requirement already satisfied: sacremoses in /usr/local/lib/python3.7/dist-packages (from transformers) (0.0.45)\n",
            "Requirement already satisfied: tokenizers<0.11,>=0.10.1 in /usr/local/lib/python3.7/dist-packages (from transformers) (0.10.2)\n",
            "Requirement already satisfied: six in /usr/local/lib/python3.7/dist-packages (from attrdict) (1.15.0)\n",
            "Requirement already satisfied: pytz>=2017.2 in /usr/local/lib/python3.7/dist-packages (from pandas->datasets) (2018.9)\n",
            "Requirement already satisfied: python-dateutil>=2.7.3 in /usr/local/lib/python3.7/dist-packages (from pandas->datasets) (2.8.1)\n",
            "Requirement already satisfied: urllib3!=1.25.0,!=1.25.1,<1.26,>=1.21.1 in /usr/local/lib/python3.7/dist-packages (from requests>=2.19.0->datasets) (1.24.3)\n",
            "Requirement already satisfied: idna<3,>=2.5 in /usr/local/lib/python3.7/dist-packages (from requests>=2.19.0->datasets) (2.10)\n",
            "Requirement already satisfied: certifi>=2017.4.17 in /usr/local/lib/python3.7/dist-packages (from requests>=2.19.0->datasets) (2020.12.5)\n",
            "Requirement already satisfied: chardet<4,>=3.0.2 in /usr/local/lib/python3.7/dist-packages (from requests>=2.19.0->datasets) (3.0.4)\n",
            "Requirement already satisfied: pyparsing>=2.0.2 in /usr/local/lib/python3.7/dist-packages (from packaging->datasets) (2.4.7)\n",
            "Requirement already satisfied: zipp>=0.5 in /usr/local/lib/python3.7/dist-packages (from importlib-metadata; python_version < \"3.8\"->datasets) (3.4.1)\n",
            "Requirement already satisfied: typing-extensions>=3.6.4; python_version < \"3.8\" in /usr/local/lib/python3.7/dist-packages (from importlib-metadata; python_version < \"3.8\"->datasets) (3.7.4.3)\n",
            "Requirement already satisfied: joblib in /usr/local/lib/python3.7/dist-packages (from sacremoses->transformers) (1.0.1)\n",
            "Requirement already satisfied: click in /usr/local/lib/python3.7/dist-packages (from sacremoses->transformers) (7.1.2)\n"
          ],
          "name": "stdout"
        }
      ]
    },
    {
      "cell_type": "code",
      "metadata": {
        "id": "AuJGaXYXANoX"
      },
      "source": [
        "import torch\n",
        "import torch.nn as nn\n",
        "from transformers import BertPreTrainedModel, BertModel\n",
        "from transformers import BertTokenizer\n",
        "from typing import Union, Optional\n",
        "\n",
        "import numpy as np\n",
        "from transformers.pipelines import ArgumentHandler\n",
        "from transformers import (\n",
        "    Pipeline,\n",
        "    PreTrainedTokenizer,\n",
        "    ModelCard\n",
        ")\n",
        "from pprint import pprint\n",
        "import os\n",
        "import google.colab as colab\n",
        "import pandas as pd\n",
        "import json\n",
        "from sklearn.metrics import multilabel_confusion_matrix\n",
        "import matplotlib.pyplot as plt\n",
        "import random\n",
        "from attrdict import AttrDict\n",
        "from torch.utils.data import SequentialSampler, DataLoader\n",
        "\n",
        "import os\n",
        "import copy\n",
        "import json\n",
        "import logging\n",
        "\n",
        "import torch\n",
        "from torch.utils.data import TensorDataset\n",
        "from tqdm.notebook import tqdm"
      ],
      "execution_count": 56,
      "outputs": []
    },
    {
      "cell_type": "code",
      "metadata": {
        "colab": {
          "base_uri": "https://localhost:8080/"
        },
        "id": "fuuJNk-oQc2P",
        "outputId": "08915180-2bc6-4f11-ee86-cb2d13dabc3d"
      },
      "source": [
        "def mount_google_drive():\n",
        "\t'''\n",
        "\t# Functionality\n",
        "\t\tMount google drive. Since colab does not save files, we want to make it easier to directly access files in google drive.\n",
        "\t# Arguments\n",
        "\t\tNothing\n",
        "\t# Returns\n",
        "\t\tdrive_root: the working directory mounted\n",
        "\t'''\n",
        "\tmount_directory = \"/content/gdrive\"\n",
        "\tdrive = colab.drive\n",
        "\tdrive.mount(mount_directory, force_remount=True)\n",
        "\tdrive_root = mount_directory + \"/\" + list(filter(lambda x: x[0] != '.', os.listdir(mount_directory)))[0]\n",
        "\treturn drive_root\n",
        "\n",
        "ROOT_DIR =  mount_google_drive() + \"/goemotion/\"\n",
        "CHECKPOINT_ROOT = ROOT_DIR + \"xinwen_ckpt/checkpoint-8000\""
      ],
      "execution_count": 57,
      "outputs": [
        {
          "output_type": "stream",
          "text": [
            "Mounted at /content/gdrive\n"
          ],
          "name": "stdout"
        }
      ]
    },
    {
      "cell_type": "markdown",
      "metadata": {
        "id": "MBSowS0E0WT6"
      },
      "source": [
        "## DataLoader"
      ]
    },
    {
      "cell_type": "code",
      "metadata": {
        "id": "l0JsAK_30Xje"
      },
      "source": [
        "\n",
        "\n",
        "logger = logging.getLogger(__name__)\n",
        "\n",
        "\n",
        "class InputExample(object):\n",
        "    \"\"\" A single training/test example for simple sequence classification. \"\"\"\n",
        "\n",
        "    def __init__(self, guid, text_a, text_b, label):\n",
        "        self.guid = guid\n",
        "        self.text_a = text_a\n",
        "        self.text_b = text_b\n",
        "        self.label = label\n",
        "\n",
        "    def __repr__(self):\n",
        "        return str(self.to_json_string())\n",
        "\n",
        "    def to_dict(self):\n",
        "        \"\"\"Serializes this instance to a Python dictionary.\"\"\"\n",
        "        output = copy.deepcopy(self.__dict__)\n",
        "        return output\n",
        "\n",
        "    def to_json_string(self):\n",
        "        \"\"\"Serializes this instance to a JSON string.\"\"\"\n",
        "        return json.dumps(self.to_dict(), indent=2, sort_keys=True) + \"\\n\"\n",
        "\n",
        "\n",
        "class InputFeatures(object):\n",
        "    \"\"\"A single set of features of data.\"\"\"\n",
        "\n",
        "    def __init__(self, input_ids, attention_mask, token_type_ids, label):\n",
        "        self.input_ids = input_ids\n",
        "        self.attention_mask = attention_mask\n",
        "        self.token_type_ids = token_type_ids\n",
        "        self.label = label\n",
        "\n",
        "    def __repr__(self):\n",
        "        return str(self.to_json_string())\n",
        "\n",
        "    def to_dict(self):\n",
        "        \"\"\"Serializes this instance to a Python dictionary.\"\"\"\n",
        "        output = copy.deepcopy(self.__dict__)\n",
        "        return output\n",
        "\n",
        "    def to_json_string(self):\n",
        "        \"\"\"Serializes this instance to a JSON string.\"\"\"\n",
        "        return json.dumps(self.to_dict(), indent=2, sort_keys=True) + \"\\n\"\n",
        "\n",
        "\n",
        "def convert_examples_to_features(\n",
        "        args,\n",
        "        examples,\n",
        "        tokenizer,\n",
        "        max_length,\n",
        "):\n",
        "    processor = GoEmotionsProcessor(args)\n",
        "    label_list_len = len(processor.get_labels())\n",
        "\n",
        "    def convert_to_one_hot_label(label):\n",
        "        one_hot_label = [0] * label_list_len\n",
        "        for l in label:\n",
        "            one_hot_label[l] = 1\n",
        "        return one_hot_label\n",
        "\n",
        "    labels = [convert_to_one_hot_label(example.label) for example in examples]\n",
        "\n",
        "    batch_encoding = tokenizer.batch_encode_plus(\n",
        "        [(example.text_a, example.text_b) for example in examples], max_length=max_length, pad_to_max_length=True\n",
        "    )\n",
        "\n",
        "    features = []\n",
        "    for i in range(len(examples)):\n",
        "        inputs = {k: batch_encoding[k][i] for k in batch_encoding}\n",
        "\n",
        "        feature = InputFeatures(**inputs, label=labels[i])\n",
        "        features.append(feature)\n",
        "\n",
        "    for i, example in enumerate(examples[:10]):\n",
        "        logger.info(\"*** Example ***\")\n",
        "        logger.info(\"guid: {}\".format(example.guid))\n",
        "        logger.info(\"sentence: {}\".format(example.text_a))\n",
        "        logger.info(\"tokens: {}\".format(\" \".join([str(x) for x in tokenizer.tokenize(example.text_a)])))\n",
        "        logger.info(\"input_ids: {}\".format(\" \".join([str(x) for x in features[i].input_ids])))\n",
        "        logger.info(\"attention_mask: {}\".format(\" \".join([str(x) for x in features[i].attention_mask])))\n",
        "        logger.info(\"token_type_ids: {}\".format(\" \".join([str(x) for x in features[i].token_type_ids])))\n",
        "        logger.info(\"label: {}\".format(\" \".join([str(x) for x in features[i].label])))\n",
        "\n",
        "    return features\n",
        "\n",
        "\n",
        "class GoEmotionsProcessor(object):\n",
        "    \"\"\"Processor for the GoEmotions data set \"\"\"\n",
        "\n",
        "    def __init__(self, args):\n",
        "        self.args = args\n",
        "\n",
        "    def get_labels(self):\n",
        "        labels = []\n",
        "        with open(os.path.join(self.args.data_dir, self.args.label_file), \"r\", encoding=\"utf-8\") as f:\n",
        "            for line in f:\n",
        "                labels.append(line.rstrip())\n",
        "        return labels\n",
        "    \n",
        "    def obtain_label_text(self):\n",
        "        label_list = self.get_labels()\n",
        "        for i in range(len(label_list)):\n",
        "            if label_list[i] == 'optimism':\n",
        "                label_list[i] = 'optimistic'\n",
        "            elif label_list[i] == 'nervousness':\n",
        "                label_list[i] = 'nervous'\n",
        "        label_text = ' '.join(label_list)\n",
        "        self.label_text = label_text\n",
        "        self.label_length = len(label_list)\n",
        "        return\n",
        "\n",
        "    @classmethod\n",
        "    def _read_file(cls, input_file):\n",
        "        \"\"\"Reads a tab separated value file.\"\"\"\n",
        "        with open(input_file, \"r\", encoding=\"utf-8\") as f:\n",
        "            return f.readlines()\n",
        "\n",
        "    def _create_examples(self, lines, set_type):\n",
        "        \"\"\" Creates examples for the train, dev and test sets.\"\"\"\n",
        "        examples = []\n",
        "        for (i, line) in enumerate(lines):\n",
        "            guid = \"%s-%s\" % (set_type, i)\n",
        "            line = line.strip()\n",
        "            items = line.split(\"\\t\")\n",
        "            text_b = items[0]\n",
        "            label = list(map(int, items[1].split(\",\")))\n",
        "            if i % 5000 == 0:\n",
        "                logger.info(line)\n",
        "            examples.append(InputExample(guid=guid, text_a=self.label_text, text_b=text_b, label=label))\n",
        "        return examples\n",
        "\n",
        "    def get_examples(self, mode):\n",
        "        \"\"\"\n",
        "        Args:\n",
        "            mode: train, dev, test\n",
        "        \"\"\"\n",
        "        file_to_read = None\n",
        "        if mode == 'train':\n",
        "            file_to_read = self.args.train_file\n",
        "        elif mode == 'dev':\n",
        "            file_to_read = self.args.dev_file\n",
        "        elif mode == 'test':\n",
        "            file_to_read = self.args.test_file\n",
        "        elif mode == 'new':\n",
        "            file_to_read = self.args.new_file\n",
        "\n",
        "        logger.info(\"LOOKING AT {}\".format(os.path.join(self.args.data_dir, file_to_read)))\n",
        "        return self._create_examples(self._read_file(os.path.join(self.args.data_dir,\n",
        "                                                                  file_to_read)), mode)\n",
        "\n",
        "\n",
        "def load_and_cache_examples(args, tokenizer, mode):\n",
        "    processor = GoEmotionsProcessor(args)\n",
        "    processor.obtain_label_text()\n",
        "    # Load data features from cache or dataset file\n",
        "    cached_features_file = os.path.join(\n",
        "        args.data_dir,\n",
        "        \"cached_{}_{}_{}_{}\".format(\n",
        "            str(args.task),\n",
        "            list(filter(None, args.model_name_or_path.split(\"/\"))).pop(),\n",
        "            str(args.max_seq_len),\n",
        "            mode\n",
        "        )\n",
        "    )\n",
        "    if os.path.exists(cached_features_file):\n",
        "        logger.info(\"Loading features from cached file %s\", cached_features_file)\n",
        "        features = torch.load(cached_features_file)\n",
        "        candidate_examples = processor.get_examples(\"new\")\n",
        "        candidate_features = convert_examples_to_features(\n",
        "            args, candidate_examples, tokenizer, max_length=args.max_seq_len+processor.label_length\n",
        "        )\n",
        "    else:\n",
        "        logger.info(\"Creating features from dataset file at %s\", args.data_dir)\n",
        "        if mode == \"train\":\n",
        "            examples = processor.get_examples(\"train\")\n",
        "        elif mode == \"dev\":\n",
        "            examples = processor.get_examples(\"dev\")\n",
        "        elif mode == \"test\":\n",
        "            examples = processor.get_examples(\"test\")\n",
        "        elif mode == \"new\":\n",
        "            examples = processor.get_examples(\"new\")\n",
        "        else:\n",
        "            raise ValueError(\"For mode, only train, dev, test, new is available\")\n",
        "        features = convert_examples_to_features(\n",
        "            args, examples, tokenizer, max_length=args.max_seq_len+processor.label_length\n",
        "        )\n",
        "        candidate_examples = processor.get_examples(\"new\")\n",
        "        candidate_features = convert_examples_to_features(\n",
        "            args, candidate_examples, tokenizer, max_length=args.max_seq_len+processor.label_length\n",
        "        )\n",
        "        logger.info(\"Saving features into cached file %s\", cached_features_file)\n",
        "        torch.save(features, cached_features_file)\n",
        "\n",
        "    # Convert to Tensors and build dataset\n",
        "    all_input_ids = torch.tensor([f.input_ids for f in features], dtype=torch.long)\n",
        "    all_attention_mask = torch.tensor([f.attention_mask for f in features], dtype=torch.long)\n",
        "    all_token_type_ids = torch.tensor([f.token_type_ids for f in features], dtype=torch.long)\n",
        "    all_labels = torch.tensor([f.label for f in features], dtype=torch.float)\n",
        "    candidate_input_ids = torch.tensor([f.input_ids for f in candidate_features], dtype=torch.long)\n",
        "    candidate_attention_mask = torch.tensor([f.attention_mask for f in candidate_features], dtype=torch.long)\n",
        "    candidate_token_type_ids = torch.tensor([f.token_type_ids for f in candidate_features], dtype=torch.long)\n",
        "\n",
        "    dataset = TensorDataset(all_input_ids, all_attention_mask, all_token_type_ids, all_labels, candidate_input_ids, candidate_attention_mask, candidate_token_type_ids)\n",
        "    return dataset"
      ],
      "execution_count": 58,
      "outputs": []
    },
    {
      "cell_type": "markdown",
      "metadata": {
        "id": "t5KIaRKJU75a"
      },
      "source": [
        "## Model Class"
      ]
    },
    {
      "cell_type": "code",
      "metadata": {
        "id": "hERifRwsCgvD"
      },
      "source": [
        "class BertForMultiLabelClassification(BertPreTrainedModel):\n",
        "    def __init__(self, config):\n",
        "        super().__init__(config)\n",
        "        self.num_labels = config.num_labels\n",
        "\n",
        "        self.bert = BertModel(config)\n",
        "        self.pool_classifier = nn.Sequential(\n",
        "            nn.Linear(config.hidden_size, config.hidden_size),\n",
        "            nn.Tanh(),\n",
        "            nn.Dropout(config.hidden_dropout_prob),\n",
        "            nn.Linear(config.hidden_size, 1)\n",
        "        )\n",
        "        # self.dropout = nn.Dropout(config.hidden_dropout_prob)\n",
        "        # self.classifier = nn.Linear(config.hidden_size, self.config.num_labels)\n",
        "        self.loss_fct = nn.BCEWithLogitsLoss()\n",
        "\n",
        "        self.init_weights()\n",
        "        self.mixing_rate = 0.92\n",
        "\n",
        "    def forward(\n",
        "            self,\n",
        "            input_ids=None,\n",
        "            attention_mask=None,\n",
        "            token_type_ids=None,\n",
        "            candidate_input_ids=None,\n",
        "            candidate_attention_mask=None,\n",
        "            candidate_token_type_ids=None,\n",
        "            position_ids=None,\n",
        "            head_mask=None,\n",
        "            inputs_embeds=None,\n",
        "            labels=None,\n",
        "    ):\n",
        "        outputs = self.bert(\n",
        "            input_ids,\n",
        "            attention_mask=attention_mask,\n",
        "            token_type_ids=token_type_ids,\n",
        "            position_ids=position_ids,\n",
        "            head_mask=head_mask,\n",
        "            inputs_embeds=inputs_embeds,\n",
        "        )\n",
        "\n",
        "        if candidate_input_ids is not None and candidate_attention_mask is not None and candidate_token_type_ids is not None:\n",
        "          candidate_outputs = self.bert(\n",
        "              candidate_input_ids,\n",
        "              attention_mask=candidate_attention_mask,\n",
        "              token_type_ids=candidate_token_type_ids,\n",
        "              position_ids=position_ids,\n",
        "              head_mask=head_mask,\n",
        "              inputs_embeds=inputs_embeds\n",
        "          )\n",
        "          temp = self.mixing_rate * outputs[0] + (1 - self.mixing_rate) * candidate_outputs[0]\n",
        "          last_hidden_state = temp[:, 1:self.config.num_labels+1] # only get the states corresponding to labels\n",
        "        else:\n",
        "          last_hidden_state = outputs[0][:, 1:self.config.num_labels+1] # only get the states corresponding to labels\n",
        "\n",
        "        logits = self.pool_classifier(last_hidden_state).squeeze(-1)\n",
        "\n",
        "        # pooled_output = outputs[1]\n",
        "        # pooled_output = self.dropout(pooled_output)\n",
        "        # logits = self.classifier(pooled_output)\n",
        "\n",
        "        outputs = (logits,) + outputs[2:]  # add hidden states and attention if they are here\n",
        "\n",
        "        if labels is not None:\n",
        "            loss = self.loss_fct(logits, labels)\n",
        "            outputs = (loss,) + outputs\n",
        "\n",
        "        return outputs  # (loss), logits, (hidden_states), (attentions)"
      ],
      "execution_count": 59,
      "outputs": []
    },
    {
      "cell_type": "markdown",
      "metadata": {
        "id": "w7BwhC2r_DB4"
      },
      "source": [
        "# Pipeline"
      ]
    },
    {
      "cell_type": "code",
      "metadata": {
        "id": "NXP_HKrm_Edg"
      },
      "source": [
        "class MultiLabelTestInferencePipeline(Pipeline):\n",
        "    def __init__(\n",
        "            self,\n",
        "            model: Union[\"PreTrainedModel\", \"TFPreTrainedModel\"],\n",
        "            tokenizer: PreTrainedTokenizer,\n",
        "            modelcard: Optional[ModelCard] = None,\n",
        "            framework: Optional[str] = None,\n",
        "            task: str = \"\",\n",
        "            args_parser: ArgumentHandler = None,\n",
        "            device: int = -1,\n",
        "            binary_output: bool = False,\n",
        "            threshold: float = 0.3,\n",
        "            taxonomy = \"original\"\n",
        "    ):\n",
        "        super().__init__(\n",
        "            model=model,\n",
        "            tokenizer=tokenizer,\n",
        "            modelcard=modelcard,\n",
        "            framework=framework,\n",
        "            args_parser=args_parser,\n",
        "            device=device,\n",
        "            binary_output=binary_output,\n",
        "            task=task\n",
        "        )\n",
        "\n",
        "        self.threshold = threshold\n",
        "\n",
        "        # config_filename = \"{}.json\".format(taxonomy)\n",
        "        # with open(os.path.join(\"config\", config_filename)) as f:\n",
        "        #     args = AttrDict(json.load(f))\n",
        "        orig_dict = {\n",
        "        \"task\": \"goemotions\",\n",
        "        \"data_dir\": ROOT_DIR + \"data/original\",\n",
        "        \"ckpt_dir\": ROOT_DIR + \"ckpt/original\",\n",
        "        \"output_dir\": \"bert-base-cased-goemotions-original\",\n",
        "        \"train_file\": \"train.tsv\",\n",
        "        \"dev_file\": \"dev.tsv\",\n",
        "        \"test_file\": \"test.tsv\",\n",
        "        \"new_file\": \"new.tsv\",\n",
        "        \"label_file\": \"labels.txt\",\n",
        "        \"evaluate_test_during_training\": False,\n",
        "        \"eval_all_checkpoints\": True,\n",
        "        \"save_optimizer\": False,\n",
        "        \"do_lower_case\": False,\n",
        "        \"do_train\": True,\n",
        "        \"do_eval\": True,\n",
        "        \"max_seq_len\": 50,\n",
        "        \"num_train_epochs\": 4,\n",
        "        \"weight_decay\": 0.0,\n",
        "        \"gradient_accumulation_steps\": 1,\n",
        "        \"adam_epsilon\": 1e-8,\n",
        "        \"warmup_proportion\": 0.1,\n",
        "        \"max_steps\": -1,\n",
        "        \"max_grad_norm\": 1.0,\n",
        "        \"no_cuda\": False,\n",
        "        \"model_type\": \"bert\",\n",
        "        \"model_name_or_path\": \"bert-base-cased\",\n",
        "        \"tokenizer_name_or_path\": \"monologg/bert-base-cased-goemotions-original\",\n",
        "        \"seed\": 42,\n",
        "        \"train_batch_size\": 16,\n",
        "        \"eval_batch_size\": 32,\n",
        "        \"logging_steps\": 1000,\n",
        "        \"save_steps\": 1000,\n",
        "        \"learning_rate\": 5e-5,\n",
        "        \"threshold\": 0.3\n",
        "        }\n",
        "        args = AttrDict(orig_dict)\n",
        "\n",
        "        args.output_dir = os.path.join(args.ckpt_dir, args.output_dir)\n",
        "\n",
        "        processor = GoEmotionsProcessor(args)\n",
        "        label_list = processor.get_labels()\n",
        "\n",
        "        args.device = \"cuda\" if torch.cuda.is_available() and not args.no_cuda else \"cpu\"\n",
        "        model.to(args.device)\n",
        "\n",
        "        eval_dataset = load_and_cache_examples(args, tokenizer, mode=\"test\") if args.test_file else None\n",
        "        eval_sampler = SequentialSampler(eval_dataset)\n",
        "        self.eval_dataloader = DataLoader(eval_dataset, sampler=eval_sampler, batch_size=args.eval_batch_size)\n",
        "\n",
        "        self.args = args\n",
        "        self.model = model\n",
        "\n",
        "    def __call__(self, *args, **kwargs):\n",
        "\n",
        "        results = []\n",
        "        ground_truths = []\n",
        "        for batch in tqdm(self.eval_dataloader):\n",
        "            self.model.eval()\n",
        "            for label in batch[3]:\n",
        "                label_text = []\n",
        "                idxs = np.where(label.numpy() == 1.0)[0]\n",
        "                for idx in idxs:\n",
        "                    label_text.append(self.model.config.id2label[idx])\n",
        "                ground_truths.append(label_text)\n",
        "            batch = tuple(t.to(self.args.device) for t in batch)\n",
        "\n",
        "            with torch.no_grad():\n",
        "                inputs = {\n",
        "                    \"input_ids\": batch[0],\n",
        "                    \"attention_mask\": batch[1],\n",
        "                    \"token_type_ids\": batch[2],\n",
        "                    \"labels\": batch[3],\n",
        "                    \"candidate_input_ids\": batch[4],\n",
        "                    \"candidate_attention_mask\": batch[5],\n",
        "                    \"candidate_token_type_ids\": batch[6]\n",
        "                }\n",
        "                outputs = self.model(**inputs)[1].detach().cpu()\n",
        "\n",
        "            scores = 1 / (1 + np.exp(-outputs))  # Sigmoid\n",
        "            for item in scores:\n",
        "                labels = []\n",
        "                scores = []\n",
        "                for idx, s in enumerate(item):\n",
        "                    if s > self.threshold:\n",
        "                        labels.append(self.model.config.id2label[idx])\n",
        "                        scores.append(float(s))\n",
        "                results.append({\"labels\": labels, \"scores\": scores})\n",
        "\n",
        "        return results, ground_truths"
      ],
      "execution_count": 60,
      "outputs": []
    },
    {
      "cell_type": "markdown",
      "metadata": {
        "id": "RMbWJfoseqti"
      },
      "source": [
        "# Inference On Testset"
      ]
    },
    {
      "cell_type": "code",
      "metadata": {
        "colab": {
          "base_uri": "https://localhost:8080/",
          "height": 137,
          "referenced_widgets": [
            "49281609c9c749088365b50efa00aa72",
            "6e1d6f55b4de474ea00a9c307c23350e",
            "cedaca5c0fed4b7fa8d05623f90c0605",
            "a248d2e9e2d34808a1139fd53e74db6e",
            "f70531d6e8fb4e859be0ab694f5a0a22",
            "4720959b828d430f8957ab73dc5db553",
            "8464c44978014ac8ac38c822bde97860",
            "7c9e1d7a73544dea889a19b4f509ad8b"
          ]
        },
        "id": "l6vbHOge6WfT",
        "outputId": "d9b12766-97e4-4821-b3cb-7505d7afba2d"
      },
      "source": [
        "tokenizer = BertTokenizer.from_pretrained(CHECKPOINT_ROOT)\n",
        "model = BertForMultiLabelClassification.from_pretrained(CHECKPOINT_ROOT)\n",
        "\n",
        "goemotions = MultiLabelTestInferencePipeline(\n",
        "    model=model,\n",
        "    tokenizer=tokenizer,\n",
        "    threshold=0.3\n",
        ")\n",
        "\n",
        "raw_predictions, ground_truths = goemotions()"
      ],
      "execution_count": 61,
      "outputs": [
        {
          "output_type": "stream",
          "text": [
            "Truncation was not explicitly activated but `max_length` is provided a specific value, please use `truncation=True` to explicitly truncate examples to max length. Defaulting to 'longest_first' truncation strategy. If you encode pairs of sequences (GLUE-style) with the tokenizer you can select this strategy more precisely by providing a specific strategy to `truncation`.\n",
            "/usr/local/lib/python3.7/dist-packages/transformers/tokenization_utils_base.py:2079: FutureWarning: The `pad_to_max_length` argument is deprecated and will be removed in a future version, use `padding=True` or `padding='longest'` to pad to the longest sequence in the batch, or use `padding='max_length'` to pad to a max length. In this case, you can give a specific length with `max_length` (e.g. `max_length=45`) or leave max_length to None to pad to the maximal input size of the model (e.g. 512 for Bert).\n",
            "  FutureWarning,\n"
          ],
          "name": "stderr"
        },
        {
          "output_type": "display_data",
          "data": {
            "application/vnd.jupyter.widget-view+json": {
              "model_id": "49281609c9c749088365b50efa00aa72",
              "version_minor": 0,
              "version_major": 2
            },
            "text/plain": [
              "HBox(children=(FloatProgress(value=0.0, max=170.0), HTML(value='')))"
            ]
          },
          "metadata": {
            "tags": []
          }
        },
        {
          "output_type": "stream",
          "text": [
            "\n"
          ],
          "name": "stdout"
        }
      ]
    },
    {
      "cell_type": "code",
      "metadata": {
        "id": "bFT5SB3x6W5I"
      },
      "source": [
        "# Load training sentences\n",
        "train_df = pd.read_csv(ROOT_DIR + \"data/original/train.tsv\", sep='\\t', header=None, names=[\"sentence\", \"label\", \"encoding\"])\n",
        "train_sentences = train_df.sentence.tolist()\n",
        "\n",
        "# Load labels and build dicts\n",
        "with open(ROOT_DIR + \"data/original/labels.txt\", \"r\") as f:\n",
        "  labels = f.read().splitlines()\n",
        "label2index = {v: k for k, v in enumerate(labels)}\n",
        "index2label = {k: v for k, v in enumerate(labels)}\n",
        "\n",
        "\n",
        "# Load test set, get test sents and ground truths\n",
        "test_df = pd.read_csv(ROOT_DIR + \"data/original/test.tsv\", sep='\\t', header=None, names=[\"sentence\", \"label\", \"encoding\"])\n",
        "test_sentences = test_df.sentence.tolist()\n",
        "\n",
        "\n",
        "# Create ground truth label format\n",
        "ground_truths = []\n",
        "for x in test_df.label.tolist():\n",
        "  single_idxs = x.split(\",\")\n",
        "  single_labels = []\n",
        "  for label in single_idxs:\n",
        "    single_labels.append(index2label[int(label)])\n",
        "  ground_truths.append(single_labels)"
      ],
      "execution_count": 62,
      "outputs": []
    },
    {
      "cell_type": "code",
      "metadata": {
        "id": "sRlMrWFQCkd-"
      },
      "source": [
        "predictions = [x[\"labels\"] for x in raw_predictions]"
      ],
      "execution_count": 63,
      "outputs": []
    },
    {
      "cell_type": "code",
      "metadata": {
        "id": "_IjZ0zw6CnKE"
      },
      "source": [
        "assert len(ground_truths) == len(predictions)"
      ],
      "execution_count": 64,
      "outputs": []
    },
    {
      "cell_type": "code",
      "metadata": {
        "colab": {
          "base_uri": "https://localhost:8080/"
        },
        "id": "Xy0algSxCpBc",
        "outputId": "12ee248f-b678-4b93-e8e3-f0036ec6cb22"
      },
      "source": [
        "num_em = 0\n",
        "for i, (pred, truth) in enumerate(zip(predictions, ground_truths)):\n",
        "  if pred == truth:\n",
        "    num_em += 1\n",
        "print(num_em / len(predictions))"
      ],
      "execution_count": 65,
      "outputs": [
        {
          "output_type": "stream",
          "text": [
            "0.43191450156624284\n"
          ],
          "name": "stdout"
        }
      ]
    },
    {
      "cell_type": "code",
      "metadata": {
        "id": "_w0YTw2uCqdz"
      },
      "source": [
        "def convert_onehot(inputs):\n",
        "  final_arr = np.zeros((len(inputs), len(label2index.keys())))\n",
        "  for i, labels in enumerate(inputs):\n",
        "    for label in labels:\n",
        "      final_arr[i, label2index[label]] = 1\n",
        "  return final_arr"
      ],
      "execution_count": 66,
      "outputs": []
    },
    {
      "cell_type": "code",
      "metadata": {
        "id": "FR0SWZ4fCrs7"
      },
      "source": [
        "onehot_truths = convert_onehot(ground_truths)\n",
        "onehot_preds = convert_onehot(predictions)\n",
        "multilabel_confmat = multilabel_confusion_matrix(onehot_truths, onehot_preds)"
      ],
      "execution_count": 67,
      "outputs": []
    },
    {
      "cell_type": "code",
      "metadata": {
        "id": "bq15KATPCs2d"
      },
      "source": [
        "cls_report = {}\n",
        "for i in range(multilabel_confmat.shape[0]):\n",
        "  cls_report[index2label[i]] = {}\n",
        "  cls_report[index2label[i]][\"tn\"] = multilabel_confmat[i, 0, 0] + 1\n",
        "  cls_report[index2label[i]][\"fp\"] = multilabel_confmat[i, 0, 1] + 1\n",
        "  cls_report[index2label[i]][\"fn\"] = multilabel_confmat[i, 1, 0] + 1\n",
        "  cls_report[index2label[i]][\"tp\"] = multilabel_confmat[i, 1, 1] + 1\n",
        "  cls_report[index2label[i]][\"total\"] = cls_report[index2label[i]][\"tp\"] + cls_report[index2label[i]][\"fn\"]\n",
        "  cls_report[index2label[i]][\"precision\"] = cls_report[index2label[i]][\"tp\"] / (cls_report[index2label[i]][\"fp\"] + cls_report[index2label[i]][\"tp\"])\n",
        "  cls_report[index2label[i]][\"recall\"] = cls_report[index2label[i]][\"tp\"] / (cls_report[index2label[i]][\"fn\"] + cls_report[index2label[i]][\"tp\"])\n",
        "  cls_report[index2label[i]][\"f1\"] = 2 * cls_report[index2label[i]][\"precision\"] * cls_report[index2label[i]][\"recall\"] / (cls_report[index2label[i]][\"precision\"] + cls_report[index2label[i]][\"recall\"])"
      ],
      "execution_count": 68,
      "outputs": []
    },
    {
      "cell_type": "code",
      "metadata": {
        "colab": {
          "base_uri": "https://localhost:8080/"
        },
        "id": "vHOwcyGgCu3A",
        "outputId": "5c9c6e7c-7b9c-4513-a002-3b34fa71bafd"
      },
      "source": [
        "cls_report"
      ],
      "execution_count": 69,
      "outputs": [
        {
          "output_type": "execute_result",
          "data": {
            "text/plain": [
              "{'admiration': {'f1': 0.6834264432029795,\n",
              "  'fn': 139,\n",
              "  'fp': 201,\n",
              "  'precision': 0.6461267605633803,\n",
              "  'recall': 0.7252964426877471,\n",
              "  'tn': 4724,\n",
              "  'total': 506,\n",
              "  'tp': 367},\n",
              " 'amusement': {'f1': 0.82,\n",
              "  'fn': 20,\n",
              "  'fp': 88,\n",
              "  'precision': 0.7365269461077845,\n",
              "  'recall': 0.924812030075188,\n",
              "  'tn': 5077,\n",
              "  'total': 266,\n",
              "  'tp': 246},\n",
              " 'anger': {'f1': 0.5346062052505968,\n",
              "  'fn': 88,\n",
              "  'fp': 107,\n",
              "  'precision': 0.5114155251141552,\n",
              "  'recall': 0.56,\n",
              "  'tn': 5124,\n",
              "  'total': 200,\n",
              "  'tp': 112},\n",
              " 'annoyance': {'f1': 0.38255033557046986,\n",
              "  'fn': 208,\n",
              "  'fp': 160,\n",
              "  'precision': 0.41605839416058393,\n",
              "  'recall': 0.35403726708074534,\n",
              "  'tn': 4949,\n",
              "  'total': 322,\n",
              "  'tp': 114},\n",
              " 'approval': {'f1': 0.3827493261455525,\n",
              "  'fn': 211,\n",
              "  'fp': 247,\n",
              "  'precision': 0.36503856041131105,\n",
              "  'recall': 0.40226628895184136,\n",
              "  'tn': 4831,\n",
              "  'total': 353,\n",
              "  'tp': 142},\n",
              " 'caring': {'f1': 0.42320819112627983,\n",
              "  'fn': 75,\n",
              "  'fp': 94,\n",
              "  'precision': 0.3974358974358974,\n",
              "  'recall': 0.45255474452554745,\n",
              "  'tn': 5200,\n",
              "  'total': 137,\n",
              "  'tp': 62},\n",
              " 'confusion': {'f1': 0.484149855907781,\n",
              "  'fn': 71,\n",
              "  'fp': 108,\n",
              "  'precision': 0.4375,\n",
              "  'recall': 0.5419354838709678,\n",
              "  'tn': 5168,\n",
              "  'total': 155,\n",
              "  'tp': 84},\n",
              " 'curiosity': {'f1': 0.5692307692307692,\n",
              "  'fn': 64,\n",
              "  'fp': 272,\n",
              "  'precision': 0.4493927125506073,\n",
              "  'recall': 0.7762237762237763,\n",
              "  'tn': 4873,\n",
              "  'total': 286,\n",
              "  'tp': 222},\n",
              " 'desire': {'f1': 0.5034013605442176,\n",
              "  'fn': 48,\n",
              "  'fp': 25,\n",
              "  'precision': 0.5967741935483871,\n",
              "  'recall': 0.43529411764705883,\n",
              "  'tn': 5321,\n",
              "  'total': 85,\n",
              "  'tp': 37},\n",
              " 'disappointment': {'f1': 0.2965779467680608,\n",
              "  'fn': 114,\n",
              "  'fp': 71,\n",
              "  'precision': 0.35454545454545455,\n",
              "  'recall': 0.2549019607843137,\n",
              "  'tn': 5207,\n",
              "  'total': 153,\n",
              "  'tp': 39},\n",
              " 'disapproval': {'f1': 0.4119601328903654,\n",
              "  'fn': 145,\n",
              "  'fp': 209,\n",
              "  'precision': 0.37237237237237236,\n",
              "  'recall': 0.46096654275092935,\n",
              "  'tn': 4953,\n",
              "  'total': 269,\n",
              "  'tp': 124},\n",
              " 'disgust': {'f1': 0.47107438016528924,\n",
              "  'fn': 68,\n",
              "  'fp': 60,\n",
              "  'precision': 0.48717948717948717,\n",
              "  'recall': 0.456,\n",
              "  'tn': 5246,\n",
              "  'total': 125,\n",
              "  'tp': 57},\n",
              " 'embarrassment': {'f1': 0.4657534246575343,\n",
              "  'fn': 22,\n",
              "  'fp': 17,\n",
              "  'precision': 0.5,\n",
              "  'recall': 0.4358974358974359,\n",
              "  'tn': 5375,\n",
              "  'total': 39,\n",
              "  'tp': 17},\n",
              " 'excitement': {'f1': 0.44670050761421326,\n",
              "  'fn': 61,\n",
              "  'fp': 48,\n",
              "  'precision': 0.4782608695652174,\n",
              "  'recall': 0.41904761904761906,\n",
              "  'tn': 5278,\n",
              "  'total': 105,\n",
              "  'tp': 44},\n",
              " 'fear': {'f1': 0.7065868263473054,\n",
              "  'fn': 21,\n",
              "  'fp': 28,\n",
              "  'precision': 0.6781609195402298,\n",
              "  'recall': 0.7375,\n",
              "  'tn': 5323,\n",
              "  'total': 80,\n",
              "  'tp': 59},\n",
              " 'gratitude': {'f1': 0.9041095890410958,\n",
              "  'fn': 24,\n",
              "  'fp': 46,\n",
              "  'precision': 0.8776595744680851,\n",
              "  'recall': 0.9322033898305084,\n",
              "  'tn': 5031,\n",
              "  'total': 354,\n",
              "  'tp': 330},\n",
              " 'grief': {'f1': 0.35714285714285715,\n",
              "  'fn': 3,\n",
              "  'fp': 15,\n",
              "  'precision': 0.25,\n",
              "  'recall': 0.625,\n",
              "  'tn': 5408,\n",
              "  'total': 8,\n",
              "  'tp': 5},\n",
              " 'joy': {'f1': 0.601123595505618,\n",
              "  'fn': 56,\n",
              "  'fp': 86,\n",
              "  'precision': 0.5544041450777202,\n",
              "  'recall': 0.656441717791411,\n",
              "  'tn': 5182,\n",
              "  'total': 163,\n",
              "  'tp': 107},\n",
              " 'love': {'f1': 0.7977315689981096,\n",
              "  'fn': 29,\n",
              "  'fp': 78,\n",
              "  'precision': 0.7301038062283737,\n",
              "  'recall': 0.8791666666666667,\n",
              "  'tn': 5113,\n",
              "  'total': 240,\n",
              "  'tp': 211},\n",
              " 'nervousness': {'f1': 0.38095238095238104,\n",
              "  'fn': 17,\n",
              "  'fp': 9,\n",
              "  'precision': 0.47058823529411764,\n",
              "  'recall': 0.32,\n",
              "  'tn': 5397,\n",
              "  'total': 25,\n",
              "  'tp': 8},\n",
              " 'neutral': {'f1': 0.6790626591951096,\n",
              "  'fn': 456,\n",
              "  'fp': 804,\n",
              "  'precision': 0.6237716424894713,\n",
              "  'recall': 0.7451089994410285,\n",
              "  'tn': 2838,\n",
              "  'total': 1789,\n",
              "  'tp': 1333},\n",
              " 'optimism': {'f1': 0.5754189944134078,\n",
              "  'fn': 85,\n",
              "  'fp': 67,\n",
              "  'precision': 0.6058823529411764,\n",
              "  'recall': 0.5478723404255319,\n",
              "  'tn': 5176,\n",
              "  'total': 188,\n",
              "  'tp': 103},\n",
              " 'pride': {'f1': 0.4827586206896552,\n",
              "  'fn': 11,\n",
              "  'fp': 4,\n",
              "  'precision': 0.6363636363636364,\n",
              "  'recall': 0.3888888888888889,\n",
              "  'tn': 5409,\n",
              "  'total': 18,\n",
              "  'tp': 7},\n",
              " 'realization': {'f1': 0.2627118644067797,\n",
              "  'fn': 116,\n",
              "  'fp': 58,\n",
              "  'precision': 0.34831460674157305,\n",
              "  'recall': 0.2108843537414966,\n",
              "  'tn': 5226,\n",
              "  'total': 147,\n",
              "  'tp': 31},\n",
              " 'relief': {'f1': 0.42105263157894735,\n",
              "  'fn': 9,\n",
              "  'fp': 2,\n",
              "  'precision': 0.6666666666666666,\n",
              "  'recall': 0.3076923076923077,\n",
              "  'tn': 5416,\n",
              "  'total': 13,\n",
              "  'tp': 4},\n",
              " 'remorse': {'f1': 0.6887417218543046,\n",
              "  'fn': 6,\n",
              "  'fp': 41,\n",
              "  'precision': 0.5591397849462365,\n",
              "  'recall': 0.896551724137931,\n",
              "  'tn': 5332,\n",
              "  'total': 58,\n",
              "  'tp': 52},\n",
              " 'sadness': {'f1': 0.5405405405405406,\n",
              "  'fn': 68,\n",
              "  'fp': 85,\n",
              "  'precision': 0.5142857142857142,\n",
              "  'recall': 0.569620253164557,\n",
              "  'tn': 5188,\n",
              "  'total': 158,\n",
              "  'tp': 90},\n",
              " 'surprise': {'f1': 0.5303030303030303,\n",
              "  'fn': 73,\n",
              "  'fp': 51,\n",
              "  'precision': 0.5785123966942148,\n",
              "  'recall': 0.48951048951048953,\n",
              "  'tn': 5237,\n",
              "  'total': 143,\n",
              "  'tp': 70}}"
            ]
          },
          "metadata": {
            "tags": []
          },
          "execution_count": 69
        }
      ]
    },
    {
      "cell_type": "code",
      "metadata": {
        "id": "v6O0TvsICwBS"
      },
      "source": [
        "def get_attr_class(cls_report, metric_name):\n",
        "  return [x[metric_name] for x in list(cls_report.values())]"
      ],
      "execution_count": 70,
      "outputs": []
    },
    {
      "cell_type": "code",
      "metadata": {
        "colab": {
          "base_uri": "https://localhost:8080/",
          "height": 352
        },
        "id": "la9vYpCjCzq7",
        "outputId": "4c325509-93d3-4674-ef5f-85b053f78eb3"
      },
      "source": [
        "fig = plt.figure()\n",
        "ax = fig.add_axes([0,0,1,1])\n",
        "ax.set_title('Number of instances per class in the test set')\n",
        "metric_name = \"total\"\n",
        "ax.bar(list(label2index.values()), [x[metric_name] for x in list(cls_report.values())])\n",
        "plt.show()"
      ],
      "execution_count": 71,
      "outputs": [
        {
          "output_type": "display_data",
          "data": {
            "image/png": "[encoded data removed]",
            "text/plain": [
              "<Figure size 432x288 with 1 Axes>"
            ]
          },
          "metadata": {
            "tags": [],
            "needs_background": "light"
          }
        }
      ]
    },
    {
      "cell_type": "code",
      "metadata": {
        "colab": {
          "base_uri": "https://localhost:8080/",
          "height": 352
        },
        "id": "Oqiw4J8KC0pv",
        "outputId": "d930260a-2213-44b5-c00d-e0d188ef62a0"
      },
      "source": [
        "# make two columns\n",
        "fig = plt.figure()\n",
        "ax = fig.add_axes([0,0,1,1])\n",
        "ax.set_title('F1 score per class in the test set')\n",
        "metric_name = \"f1\"\n",
        "ax.bar(list(label2index.values()), [x[metric_name] for x in list(cls_report.values())])\n",
        "plt.show()"
      ],
      "execution_count": 72,
      "outputs": [
        {
          "output_type": "display_data",
          "data": {
            "image/png": "[encoded data removed]",
            "text/plain": [
              "<Figure size 432x288 with 1 Axes>"
            ]
          },
          "metadata": {
            "tags": [],
            "needs_background": "light"
          }
        }
      ]
    },
    {
      "cell_type": "code",
      "metadata": {
        "colab": {
          "base_uri": "https://localhost:8080/"
        },
        "id": "3lKiRMqfC4qD",
        "outputId": "ef7e9a6e-7ab3-4c60-e2c6-4f0cbb350d7b"
      },
      "source": [
        "sum([x[metric_name] for x in list(cls_report.values())]) / len([x[metric_name] for x in list(cls_report.values())])"
      ],
      "execution_count": 73,
      "outputs": [
        {
          "output_type": "execute_result",
          "data": {
            "text/plain": [
              "0.5287009200015446"
            ]
          },
          "metadata": {
            "tags": []
          },
          "execution_count": 73
        }
      ]
    },
    {
      "cell_type": "code",
      "metadata": {
        "id": "IJDmBv1_C65Q"
      },
      "source": [
        ""
      ],
      "execution_count": null,
      "outputs": []
    }
  ]
}
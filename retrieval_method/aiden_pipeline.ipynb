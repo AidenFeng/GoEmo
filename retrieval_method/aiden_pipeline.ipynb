{
  "nbformat": 4,
  "nbformat_minor": 0,
  "metadata": {
    "colab": {
      "name": "mixing.ipynb",
      "provenance": [],
      "collapsed_sections": [],
      "machine_shape": "hm"
    },
    "kernelspec": {
      "name": "python3",
      "display_name": "Python 3"
    },
    "language_info": {
      "name": "python"
    },
    "accelerator": "GPU"
  },
  "cells": [
    {
      "cell_type": "markdown",
      "metadata": {
        "id": "55k8J-h8Uz5K"
      },
      "source": [
        "## Install and import"
      ]
    },
    {
      "cell_type": "code",
      "metadata": {
        "colab": {
          "base_uri": "https://localhost:8080/"
        },
        "id": "TKUheZwrAjys",
        "outputId": "d977191b-b728-4201-8b08-d65cf6440f5c"
      },
      "source": [
        "# !pip install torch==1.4.0\n",
        "# !pip install transformers==2.11.0\n",
        "# !pip install attrdict==2.0.1\n",
        "!pip install datasets transformers attrdict"
      ],
      "execution_count": 2,
      "outputs": [
        {
          "output_type": "stream",
          "text": [
            "Collecting datasets\n",
            "\u001b[?25l  Downloading https://files.pythonhosted.org/packages/df/4f/8ef6e4df6e92fc02da620ccfac249112619e5c21273a836958160d6e96fb/datasets-1.6.1-py3-none-any.whl (220kB)\n",
            "\u001b[K     |████████████████████████████████| 225kB 4.4MB/s \n",
            "\u001b[?25hCollecting transformers\n",
            "\u001b[?25l  Downloading https://files.pythonhosted.org/packages/d8/b2/57495b5309f09fa501866e225c84532d1fd89536ea62406b2181933fb418/transformers-4.5.1-py3-none-any.whl (2.1MB)\n",
            "\u001b[K     |████████████████████████████████| 2.1MB 7.1MB/s \n",
            "\u001b[?25hCollecting attrdict\n",
            "  Downloading https://files.pythonhosted.org/packages/ef/97/28fe7e68bc7adfce67d4339756e85e9fcf3c6fd7f0c0781695352b70472c/attrdict-2.0.1-py2.py3-none-any.whl\n",
            "Collecting fsspec\n",
            "\u001b[?25l  Downloading https://files.pythonhosted.org/packages/e9/91/2ef649137816850fa4f4c97c6f2eabb1a79bf0aa2c8ed198e387e373455e/fsspec-2021.4.0-py3-none-any.whl (108kB)\n",
            "\u001b[K     |████████████████████████████████| 112kB 13.6MB/s \n",
            "\u001b[?25hRequirement already satisfied: tqdm<4.50.0,>=4.27 in /usr/local/lib/python3.7/dist-packages (from datasets) (4.41.1)\n",
            "Collecting huggingface-hub<0.1.0\n",
            "  Downloading https://files.pythonhosted.org/packages/a1/88/7b1e45720ecf59c6c6737ff332f41c955963090a18e72acbcbeac6b25e86/huggingface_hub-0.0.8-py3-none-any.whl\n",
            "Requirement already satisfied: dill in /usr/local/lib/python3.7/dist-packages (from datasets) (0.3.3)\n",
            "Requirement already satisfied: importlib-metadata; python_version < \"3.8\" in /usr/local/lib/python3.7/dist-packages (from datasets) (3.10.1)\n",
            "Requirement already satisfied: pandas in /usr/local/lib/python3.7/dist-packages (from datasets) (1.1.5)\n",
            "Requirement already satisfied: numpy>=1.17 in /usr/local/lib/python3.7/dist-packages (from datasets) (1.19.5)\n",
            "Requirement already satisfied: multiprocess in /usr/local/lib/python3.7/dist-packages (from datasets) (0.70.11.1)\n",
            "Collecting xxhash\n",
            "\u001b[?25l  Downloading https://files.pythonhosted.org/packages/7d/4f/0a862cad26aa2ed7a7cd87178cbbfa824fc1383e472d63596a0d018374e7/xxhash-2.0.2-cp37-cp37m-manylinux2010_x86_64.whl (243kB)\n",
            "\u001b[K     |████████████████████████████████| 245kB 17.0MB/s \n",
            "\u001b[?25hRequirement already satisfied: packaging in /usr/local/lib/python3.7/dist-packages (from datasets) (20.9)\n",
            "Requirement already satisfied: pyarrow>=1.0.0 in /usr/local/lib/python3.7/dist-packages (from datasets) (3.0.0)\n",
            "Requirement already satisfied: requests>=2.19.0 in /usr/local/lib/python3.7/dist-packages (from datasets) (2.23.0)\n",
            "Collecting tokenizers<0.11,>=0.10.1\n",
            "\u001b[?25l  Downloading https://files.pythonhosted.org/packages/ae/04/5b870f26a858552025a62f1649c20d29d2672c02ff3c3fb4c688ca46467a/tokenizers-0.10.2-cp37-cp37m-manylinux2010_x86_64.whl (3.3MB)\n",
            "\u001b[K     |████████████████████████████████| 3.3MB 21.6MB/s \n",
            "\u001b[?25hRequirement already satisfied: regex!=2019.12.17 in /usr/local/lib/python3.7/dist-packages (from transformers) (2019.12.20)\n",
            "Requirement already satisfied: filelock in /usr/local/lib/python3.7/dist-packages (from transformers) (3.0.12)\n",
            "Collecting sacremoses\n",
            "\u001b[?25l  Downloading https://files.pythonhosted.org/packages/75/ee/67241dc87f266093c533a2d4d3d69438e57d7a90abb216fa076e7d475d4a/sacremoses-0.0.45-py3-none-any.whl (895kB)\n",
            "\u001b[K     |████████████████████████████████| 901kB 50.3MB/s \n",
            "\u001b[?25hRequirement already satisfied: six in /usr/local/lib/python3.7/dist-packages (from attrdict) (1.15.0)\n",
            "Requirement already satisfied: typing-extensions>=3.6.4; python_version < \"3.8\" in /usr/local/lib/python3.7/dist-packages (from importlib-metadata; python_version < \"3.8\"->datasets) (3.7.4.3)\n",
            "Requirement already satisfied: zipp>=0.5 in /usr/local/lib/python3.7/dist-packages (from importlib-metadata; python_version < \"3.8\"->datasets) (3.4.1)\n",
            "Requirement already satisfied: pytz>=2017.2 in /usr/local/lib/python3.7/dist-packages (from pandas->datasets) (2018.9)\n",
            "Requirement already satisfied: python-dateutil>=2.7.3 in /usr/local/lib/python3.7/dist-packages (from pandas->datasets) (2.8.1)\n",
            "Requirement already satisfied: pyparsing>=2.0.2 in /usr/local/lib/python3.7/dist-packages (from packaging->datasets) (2.4.7)\n",
            "Requirement already satisfied: chardet<4,>=3.0.2 in /usr/local/lib/python3.7/dist-packages (from requests>=2.19.0->datasets) (3.0.4)\n",
            "Requirement already satisfied: certifi>=2017.4.17 in /usr/local/lib/python3.7/dist-packages (from requests>=2.19.0->datasets) (2020.12.5)\n",
            "Requirement already satisfied: idna<3,>=2.5 in /usr/local/lib/python3.7/dist-packages (from requests>=2.19.0->datasets) (2.10)\n",
            "Requirement already satisfied: urllib3!=1.25.0,!=1.25.1,<1.26,>=1.21.1 in /usr/local/lib/python3.7/dist-packages (from requests>=2.19.0->datasets) (1.24.3)\n",
            "Requirement already satisfied: joblib in /usr/local/lib/python3.7/dist-packages (from sacremoses->transformers) (1.0.1)\n",
            "Requirement already satisfied: click in /usr/local/lib/python3.7/dist-packages (from sacremoses->transformers) (7.1.2)\n",
            "Installing collected packages: fsspec, huggingface-hub, xxhash, datasets, tokenizers, sacremoses, transformers, attrdict\n",
            "Successfully installed attrdict-2.0.1 datasets-1.6.1 fsspec-2021.4.0 huggingface-hub-0.0.8 sacremoses-0.0.45 tokenizers-0.10.2 transformers-4.5.1 xxhash-2.0.2\n"
          ],
          "name": "stdout"
        }
      ]
    },
    {
      "cell_type": "code",
      "metadata": {
        "id": "AuJGaXYXANoX"
      },
      "source": [
        "import torch\n",
        "import torch.nn as nn\n",
        "from transformers import BertPreTrainedModel, BertModel\n",
        "from transformers import BertTokenizer\n",
        "from typing import Union, Optional\n",
        "\n",
        "import numpy as np\n",
        "from transformers.pipelines import ArgumentHandler\n",
        "from transformers import (\n",
        "    Pipeline,\n",
        "    PreTrainedTokenizer,\n",
        "    ModelCard\n",
        ")\n",
        "from pprint import pprint\n",
        "import os\n",
        "import google.colab as colab\n",
        "import pandas as pd\n",
        "import json\n",
        "from sklearn.metrics import multilabel_confusion_matrix\n",
        "import matplotlib.pyplot as plt"
      ],
      "execution_count": 3,
      "outputs": []
    },
    {
      "cell_type": "code",
      "metadata": {
        "colab": {
          "base_uri": "https://localhost:8080/"
        },
        "id": "fuuJNk-oQc2P",
        "outputId": "44d90295-edf5-4082-85a5-fcd1667ee5d4"
      },
      "source": [
        "def mount_google_drive():\n",
        "\t'''\n",
        "\t# Functionality\n",
        "\t\tMount google drive. Since colab does not save files, we want to make it easier to directly access files in google drive.\n",
        "\t# Arguments\n",
        "\t\tNothing\n",
        "\t# Returns\n",
        "\t\tdrive_root: the working directory mounted\n",
        "\t'''\n",
        "\tmount_directory = \"/content/gdrive\"\n",
        "\tdrive = colab.drive\n",
        "\tdrive.mount(mount_directory, force_remount=True)\n",
        "\tdrive_root = mount_directory + \"/\" + list(filter(lambda x: x[0] != '.', os.listdir(mount_directory)))[0]\n",
        "\treturn drive_root\n",
        "\n",
        "ROOT_DIR =  mount_google_drive() + \"/goemotion/\"\n",
        "CHECKPOINT_ROOT = ROOT_DIR+ \"goemotion-ckpt/original/checkpoint-10000\""
      ],
      "execution_count": 4,
      "outputs": [
        {
          "output_type": "stream",
          "text": [
            "Mounted at /content/gdrive\n"
          ],
          "name": "stdout"
        }
      ]
    },
    {
      "cell_type": "markdown",
      "metadata": {
        "id": "t5KIaRKJU75a"
      },
      "source": [
        "## Model Class"
      ]
    },
    {
      "cell_type": "code",
      "metadata": {
        "id": "hERifRwsCgvD"
      },
      "source": [
        "class BertForMultiLabelClassification(BertPreTrainedModel):\n",
        "    def __init__(self, config):\n",
        "        super().__init__(config)\n",
        "        self.num_labels = config.num_labels\n",
        "\n",
        "        self.bert = BertModel(config)\n",
        "        self.dropout = nn.Dropout(config.hidden_dropout_prob)\n",
        "        self.classifier = nn.Linear(config.hidden_size, self.config.num_labels)\n",
        "        self.loss_fct = nn.BCEWithLogitsLoss()\n",
        "\n",
        "        self.init_weights()\n",
        "\n",
        "    def forward(\n",
        "            self,\n",
        "            input_ids=None,\n",
        "            attention_mask=None,\n",
        "            token_type_ids=None,\n",
        "            position_ids=None,\n",
        "            head_mask=None,\n",
        "            inputs_embeds=None,\n",
        "            labels=None,\n",
        "    ):\n",
        "        outputs = self.bert(\n",
        "            input_ids,\n",
        "            attention_mask=attention_mask,\n",
        "            token_type_ids=token_type_ids,\n",
        "            position_ids=position_ids,\n",
        "            head_mask=head_mask,\n",
        "            inputs_embeds=inputs_embeds,\n",
        "        )\n",
        "        pooled_output = outputs[1]\n",
        "\n",
        "        pooled_output = self.dropout(pooled_output)\n",
        "        logits = self.classifier(pooled_output)\n",
        "\n",
        "        outputs = (logits,) + outputs[2:]  # add hidden states and attention if they are here\n",
        "\n",
        "        if labels is not None:\n",
        "            loss = self.loss_fct(logits, labels)\n",
        "            outputs = (loss,) + outputs\n",
        "\n",
        "        return outputs  # (loss), logits, (hidden_states), (attentions)"
      ],
      "execution_count": 5,
      "outputs": []
    },
    {
      "cell_type": "markdown",
      "metadata": {
        "id": "w7BwhC2r_DB4"
      },
      "source": [
        "# Retrieval helpers"
      ]
    },
    {
      "cell_type": "code",
      "metadata": {
        "id": "NXP_HKrm_Edg"
      },
      "source": [
        "def generate_candidates(test_sents):\n",
        "  # simplest case: just flip the sentences\n",
        "  return test_sents[::-1]"
      ],
      "execution_count": 6,
      "outputs": []
    },
    {
      "cell_type": "markdown",
      "metadata": {
        "id": "RMbWJfoseqti"
      },
      "source": [
        "# Inference On Testset"
      ]
    },
    {
      "cell_type": "code",
      "metadata": {
        "id": "9-yX-nBYLY1w",
        "colab": {
          "base_uri": "https://localhost:8080/"
        },
        "outputId": "02480a64-1b83-4642-a85d-26e70023d9b6"
      },
      "source": [
        "device = 0\n",
        "threshold = 0.3\n",
        "tokenizer = BertTokenizer.from_pretrained(CHECKPOINT_ROOT)\n",
        "model = BertForMultiLabelClassification.from_pretrained(CHECKPOINT_ROOT)\n",
        "model = model.to(device)\n",
        "\n",
        "# goemotions = MultiLabelPipeline(\n",
        "#     model=model,\n",
        "#     tokenizer=tokenizer,\n",
        "#     threshold=0.3\n",
        "# )\n",
        "\n",
        "def goemotions(texts):\n",
        "  torch.cuda.set_device(device)\n",
        "  # 1. Tokenizer pass for both test inputs and candidate inputs\n",
        "  inputs = tokenizer(\n",
        "            texts,\n",
        "            add_special_tokens=True,\n",
        "            return_tensors=\"pt\",\n",
        "            padding=True,\n",
        "            truncation=False,\n",
        "        )\n",
        "  with torch.no_grad():\n",
        "    # 2. Model Forward pass\n",
        "    inputs = {name: tensor.to(device) for name, tensor in inputs.items()}\n",
        "    # outputs = model(**inputs)[0].cpu()\n",
        "    outputs = model(input_ids=inputs[\"input_ids\"],\n",
        "                    attention_mask=inputs[\"attention_mask\"],\n",
        "                    token_type_ids=inputs[\"token_type_ids\"])[0].cpu()\n",
        "    # 3. Inference output post-processing\n",
        "    scores = 1 / (1 + np.exp(-outputs))  # Sigmoid\n",
        "    results = []\n",
        "    for item in scores:\n",
        "        labels = []\n",
        "        scores = []\n",
        "        for idx, s in enumerate(item):\n",
        "            if s > threshold:\n",
        "                labels.append(model.config.id2label[idx])\n",
        "                scores.append(float(s))\n",
        "        results.append({\"labels\": labels, \"scores\": scores})\n",
        "    return results\n",
        "\n",
        "texts = [\n",
        "    \"Hey that's a thought! Maybe we need [NAME] to be the celebrity vaccine endorsement!\",\n",
        "    \"it’s happened before?! love my hometown of beautiful new ken 😂😂\",\n",
        "    \"I love you, brother.\",\n",
        "    \"Troll, bro. They know they're saying stupid shit. The motherfucker does nothing but stink up libertarian subs talking shit\",\n",
        "]\n",
        "\n",
        "pprint(goemotions(texts))\n",
        "\n",
        "# Output\n",
        "#  [{'labels': ['neutral'], 'scores': [0.9750906]},\n",
        "#  {'labels': ['curiosity', 'love'], 'scores': [0.9694574, 0.9227462]},\n",
        "#  {'labels': ['love'], 'scores': [0.993483]},\n",
        "#  {'labels': ['anger'], 'scores': [0.99225825]}]\n",
        "\n",
        "# [{'labels': ['optimism'], 'scores': [0.3206218481063843]},\n",
        "#  {'labels': ['curiosity', 'love'],\n",
        "#   'scores': [0.4122002422809601, 0.8766248226165771]},\n",
        "#  {'labels': ['love'], 'scores': [0.9667580723762512]},\n",
        "#  {'labels': ['anger'], 'scores': [0.9185698628425598]}]"
      ],
      "execution_count": 11,
      "outputs": [
        {
          "output_type": "stream",
          "text": [
            "{'input_ids': tensor([[  101,  4403,  1115,   112,   188,   170,  1354,   106,  2389,  1195,\n",
            "          1444,     1,  1106,  1129,  1103, 10948, 20034, 22843,   106,   102,\n",
            "             0,     0,     0,     0,     0,     0,     0,     0,     0,     0,\n",
            "             0,     0,     0,     0,     0],\n",
            "        [  101,  1122,   787,   188,  2171,  1196,   136,   106,  1567,  1139,\n",
            "          9694,  1104,  2712,  1207,   180,  1424,   100,   102,     0,     0,\n",
            "             0,     0,     0,     0,     0,     0,     0,     0,     0,     0,\n",
            "             0,     0,     0,     0,     0],\n",
            "        [  101,   146,  1567,  1128,   117,  1711,   119,   102,     0,     0,\n",
            "             0,     0,     0,     0,     0,     0,     0,     0,     0,     0,\n",
            "             0,     0,     0,     0,     0,     0,     0,     0,     0,     0,\n",
            "             0,     0,     0,     0,     0],\n",
            "        [  101,   157, 10747,   117,  9304,  1186,   119,  1220,  1221,  1152,\n",
            "           112,  1231,  2157,  4736,  4170,   119,  1109,  1534, 14703,  8638,\n",
            "          1674,  1720,  1133,   188,  6105,  1377,  1146,   181, 24851, 24279,\n",
            "          4841,  1116,  2520,  4170,   102]], device='cuda:0'), 'token_type_ids': tensor([[0, 0, 0, 0, 0, 0, 0, 0, 0, 0, 0, 0, 0, 0, 0, 0, 0, 0, 0, 0, 0, 0, 0, 0,\n",
            "         0, 0, 0, 0, 0, 0, 0, 0, 0, 0, 0],\n",
            "        [0, 0, 0, 0, 0, 0, 0, 0, 0, 0, 0, 0, 0, 0, 0, 0, 0, 0, 0, 0, 0, 0, 0, 0,\n",
            "         0, 0, 0, 0, 0, 0, 0, 0, 0, 0, 0],\n",
            "        [0, 0, 0, 0, 0, 0, 0, 0, 0, 0, 0, 0, 0, 0, 0, 0, 0, 0, 0, 0, 0, 0, 0, 0,\n",
            "         0, 0, 0, 0, 0, 0, 0, 0, 0, 0, 0],\n",
            "        [0, 0, 0, 0, 0, 0, 0, 0, 0, 0, 0, 0, 0, 0, 0, 0, 0, 0, 0, 0, 0, 0, 0, 0,\n",
            "         0, 0, 0, 0, 0, 0, 0, 0, 0, 0, 0]], device='cuda:0'), 'attention_mask': tensor([[1, 1, 1, 1, 1, 1, 1, 1, 1, 1, 1, 1, 1, 1, 1, 1, 1, 1, 1, 1, 0, 0, 0, 0,\n",
            "         0, 0, 0, 0, 0, 0, 0, 0, 0, 0, 0],\n",
            "        [1, 1, 1, 1, 1, 1, 1, 1, 1, 1, 1, 1, 1, 1, 1, 1, 1, 1, 0, 0, 0, 0, 0, 0,\n",
            "         0, 0, 0, 0, 0, 0, 0, 0, 0, 0, 0],\n",
            "        [1, 1, 1, 1, 1, 1, 1, 1, 0, 0, 0, 0, 0, 0, 0, 0, 0, 0, 0, 0, 0, 0, 0, 0,\n",
            "         0, 0, 0, 0, 0, 0, 0, 0, 0, 0, 0],\n",
            "        [1, 1, 1, 1, 1, 1, 1, 1, 1, 1, 1, 1, 1, 1, 1, 1, 1, 1, 1, 1, 1, 1, 1, 1,\n",
            "         1, 1, 1, 1, 1, 1, 1, 1, 1, 1, 1]], device='cuda:0')}\n",
            "[{'labels': ['optimism'], 'scores': [0.32062193751335144]},\n",
            " {'labels': ['curiosity', 'love'],\n",
            "  'scores': [0.4122002422809601, 0.8766248226165771]},\n",
            " {'labels': ['love'], 'scores': [0.9667580723762512]},\n",
            " {'labels': ['anger'], 'scores': [0.9185698628425598]}]\n"
          ],
          "name": "stdout"
        }
      ]
    },
    {
      "cell_type": "code",
      "metadata": {
        "colab": {
          "base_uri": "https://localhost:8080/"
        },
        "id": "CSlGJyN2bWOF",
        "outputId": "81a9bd0c-7dec-4aef-b099-191df46f2082"
      },
      "source": [
        "inputs = tokenizer(\n",
        "            texts,\n",
        "            add_special_tokens=True,\n",
        "            return_tensors=\"pt\",\n",
        "            padding=True,\n",
        "            truncation=False,\n",
        "        )\n",
        "\n",
        "print(inputs.keys())"
      ],
      "execution_count": 8,
      "outputs": [
        {
          "output_type": "stream",
          "text": [
            "dict_keys(['input_ids', 'token_type_ids', 'attention_mask'])\n"
          ],
          "name": "stdout"
        }
      ]
    },
    {
      "cell_type": "markdown",
      "metadata": {
        "id": "PAG9X4FCVKYa"
      },
      "source": [
        "## Load Test set and true labels"
      ]
    },
    {
      "cell_type": "code",
      "metadata": {
        "id": "bFdDWpSWEgcY"
      },
      "source": [
        "# Load labels and build dicts\n",
        "with open(ROOT_DIR + \"data/original/labels.txt\", \"r\") as f:\n",
        "  labels = f.read().splitlines()\n",
        "label2index = {v: k for k, v in enumerate(labels)}\n",
        "index2label = {k: v for k, v in enumerate(labels)}\n",
        "\n",
        "\n",
        "# Load test set, get test sents and ground truths\n",
        "df = pd.read_csv(ROOT_DIR + \"data/original/test.tsv\", sep='\\t', header=None, names=[\"sentence\", \"label\", \"encoding\"])\n",
        "sentences = df.sentence.tolist()\n",
        "ground_truths = []\n",
        "for x in df.label.tolist():\n",
        "  single_idxs = x.split(\",\")\n",
        "  single_labels = []\n",
        "  for label in single_idxs:\n",
        "    single_labels.append(index2label[int(label)])\n",
        "  ground_truths.append(single_labels)"
      ],
      "execution_count": null,
      "outputs": []
    },
    {
      "cell_type": "code",
      "metadata": {
        "id": "JGV_2xe-KHZu"
      },
      "source": [
        "# raw_predictions = []\n",
        "# batch_size = 81\n",
        "# num_batches = len(sentences) / batch_size\n",
        "\n",
        "# i = 0\n",
        "# while i < len(sentences):\n",
        "#   raw_predictions += goemotions(sentences[i: i + batch_size])\n",
        "#   i = i + batch_size\n",
        "\n",
        "# with open(ROOT_DIR + \"data/original/predictions_epoch4.json\", 'w') as f:\n",
        "#   json.dump(raw_predictions, f)"
      ],
      "execution_count": null,
      "outputs": []
    },
    {
      "cell_type": "code",
      "metadata": {
        "id": "ifKtNZvPPXzV"
      },
      "source": [
        "with open(ROOT_DIR + \"data/original/predictions_epoch4.json\", 'r') as f:\n",
        "  raw_predictions = json.load(f)"
      ],
      "execution_count": null,
      "outputs": []
    },
    {
      "cell_type": "code",
      "metadata": {
        "id": "OuxQMe7sRweS"
      },
      "source": [
        "predictions = [x[\"labels\"] for x in raw_predictions]"
      ],
      "execution_count": null,
      "outputs": []
    },
    {
      "cell_type": "code",
      "metadata": {
        "colab": {
          "base_uri": "https://localhost:8080/"
        },
        "id": "23NtvvUZRxT-",
        "outputId": "fd3e07be-2be0-4438-dec2-451e1c031f81"
      },
      "source": [
        "len(ground_truths) == len(predictions)"
      ],
      "execution_count": null,
      "outputs": [
        {
          "output_type": "execute_result",
          "data": {
            "text/plain": [
              "True"
            ]
          },
          "metadata": {
            "tags": []
          },
          "execution_count": 12
        }
      ]
    },
    {
      "cell_type": "code",
      "metadata": {
        "colab": {
          "base_uri": "https://localhost:8080/"
        },
        "id": "PJVNXZ17m0X-",
        "outputId": "d98e449c-f1b3-450b-b2ae-1019f956306c"
      },
      "source": [
        "num_em = 0\n",
        "for i, (pred, truth) in enumerate(zip(predictions, ground_truths)):\n",
        "  if pred != truth and \"grief\" in truth:\n",
        "    num_em += 1\n",
        "    print(sentences[i])\n",
        "    print(pred)\n",
        "    print(truth)\n",
        "    print(\"------------------\")\n",
        "# print(num_em / len(predictions))"
      ],
      "execution_count": null,
      "outputs": [
        {
          "output_type": "stream",
          "text": [
            "[NAME] death is just so..... senseless. Why? WHY??? The based gods have forsaken us\n",
            "[]\n",
            "['grief']\n",
            "------------------\n",
            "Rip the guy from psych\n",
            "['neutral']\n",
            "['grief']\n",
            "------------------\n",
            "The only death that made me feel any emotion. And it wasn’t even the death itself.\n",
            "['neutral']\n",
            "['grief', 'sadness']\n",
            "------------------\n",
            "My condolences.\n",
            "['sadness']\n",
            "['grief', 'sadness']\n",
            "------------------\n",
            "Oh my gosh. This woman who died also had a son who died. Holy tragedy\n",
            "['sadness', 'surprise']\n",
            "['grief', 'sadness', 'surprise']\n",
            "------------------\n",
            "You'll miss a begging old man asking for a spare coin. RIP\n",
            "['neutral']\n",
            "['grief', 'sadness']\n",
            "------------------\n"
          ],
          "name": "stdout"
        }
      ]
    },
    {
      "cell_type": "code",
      "metadata": {
        "colab": {
          "base_uri": "https://localhost:8080/"
        },
        "id": "MlGpWLT0oy2Q",
        "outputId": "93e33b9b-625b-49f9-8ae0-4288f3cdc6e8"
      },
      "source": [
        "num_em = 0\n",
        "for i, (pred, truth) in enumerate(zip(predictions, ground_truths)):\n",
        "  if pred != truth and \"pride\" in truth:\n",
        "    num_em += 1\n",
        "    print(sentences[i])\n",
        "    print(pred)\n",
        "    print(truth)\n",
        "    print(\"------------------\")\n",
        "# print(num_em / len(predictions))"
      ],
      "execution_count": null,
      "outputs": [
        {
          "output_type": "stream",
          "text": [
            "I only eat cronuts cuz I'm sophisticated!\n",
            "['approval']\n",
            "['pride']\n",
            "------------------\n",
            "This internet stranger is also super proud of you! Way to go!!!\n",
            "['admiration', 'excitement']\n",
            "['admiration', 'pride']\n",
            "------------------\n",
            "That’s better:-) now go get em tiger\n",
            "['approval', 'neutral']\n",
            "['approval', 'optimism', 'pride']\n",
            "------------------\n",
            "My jersey has the great number 10 on it!!\n",
            "['admiration']\n",
            "['pride']\n",
            "------------------\n",
            "And I taught my room was dirty and that I was not taking care of my self. Good job op\n",
            "['admiration']\n",
            "['admiration', 'pride']\n",
            "------------------\n",
            "I am proud of you random internet stranger, you peopled good today.\n",
            "['admiration']\n",
            "['admiration', 'pride']\n",
            "------------------\n",
            "That's nothing, before BSE we did horrible things with bone meal animal feed. Cannibal cows.\n",
            "['disapproval']\n",
            "['pride']\n",
            "------------------\n",
            "Yep. I did this in uni, got mad respect for holding my \"booze\". \n",
            "['admiration', 'approval']\n",
            "['pride']\n",
            "------------------\n",
            "You’re doing so good! We’re all so proud!\n",
            "['admiration']\n",
            "['admiration', 'pride']\n",
            "------------------\n",
            "I have no shame in saying I still have my blanket from when I was a child. And a favorite [NAME] plushie.\n",
            "['joy', 'neutral']\n",
            "['pride']\n",
            "------------------\n",
            "We have reached the stage where below 2 million is good. There truly is no bottom to this pit.\n",
            "['approval']\n",
            "['admiration', 'pride']\n",
            "------------------\n",
            "I did! Never moving back, I love my life in the \"big smoke\".\n",
            "['love']\n",
            "['joy', 'pride']\n",
            "------------------\n",
            "Boy what an accomplishment, so proud!\n",
            "['admiration']\n",
            "['pride']\n",
            "------------------\n",
            "Thats the high life of empowerment.\n",
            "['neutral']\n",
            "['pride', 'neutral']\n",
            "------------------\n",
            "I am proud to be racist No one in real life will know this\n",
            "['excitement']\n",
            "['pride']\n",
            "------------------\n",
            "i’m so proud of you!! good job dude!! :)\n",
            "['admiration']\n",
            "['admiration', 'pride']\n",
            "------------------\n"
          ],
          "name": "stdout"
        }
      ]
    },
    {
      "cell_type": "code",
      "metadata": {
        "id": "diUvI-fzo50k",
        "colab": {
          "base_uri": "https://localhost:8080/"
        },
        "outputId": "c60f24d1-9b2b-473a-c3ec-3723523008df"
      },
      "source": [
        "num_em = 0\n",
        "for i, (pred, truth) in enumerate(zip(predictions, ground_truths)):\n",
        "  if pred != truth and \"relief\" in truth:\n",
        "    num_em += 1\n",
        "    print(sentences[i])\n",
        "    print(pred)\n",
        "    print(truth)\n",
        "    print(\"------------------\")\n",
        "# print(num_em / len(predictions))"
      ],
      "execution_count": null,
      "outputs": [
        {
          "output_type": "stream",
          "text": [
            "Resetting a dislocated knee hurts like hell but it feels a lot better immediately after.\n",
            "['caring']\n",
            "['relief']\n",
            "------------------\n",
            "Praise the [NAME] for REALITY! WOOF!!!!!\n",
            "['admiration']\n",
            "['relief']\n",
            "------------------\n",
            "I'm glad you have someone to help you out! Perhaps over time you'll find it easier.\n",
            "['caring', 'joy']\n",
            "['joy', 'relief']\n",
            "------------------\n",
            "I’ve exposed on social media. It made me feel better so I don’t care what anyway has to say about it.\n",
            "['approval', 'realization']\n",
            "['relief']\n",
            "------------------\n",
            "at least it wasn’t the evil [NAME].\n",
            "['neutral']\n",
            "['relief']\n",
            "------------------\n",
            "Yay, coming out is hard, you're lucky that they didnt avoid you for the next month, I'm happy for you\n",
            "['joy']\n",
            "['caring', 'joy', 'relief']\n",
            "------------------\n",
            "I'm glad it only sprayed soda when his thumb went into the can, and not blood everywhere.\n",
            "['joy']\n",
            "['relief']\n",
            "------------------\n",
            "Glad I'm not the only one\n",
            "['joy']\n",
            "['joy', 'relief']\n",
            "------------------\n",
            "This is really helpful to point out!!\n",
            "['approval', 'gratitude']\n",
            "['relief']\n",
            "------------------\n",
            "I have little to no anxiety and it really helps me when i have to take a test.\n",
            "[]\n",
            "['relief']\n",
            "------------------\n",
            "Oh that’s actually seriously a relief, how do you know that though?\n",
            "['approval', 'curiosity']\n",
            "['curiosity', 'relief']\n",
            "------------------\n"
          ],
          "name": "stdout"
        }
      ]
    },
    {
      "cell_type": "code",
      "metadata": {
        "id": "C4axG-t-vMH4"
      },
      "source": [
        "def convert_onehot(inputs):\n",
        "  final_arr = np.zeros((len(inputs), len(label2index.keys())))\n",
        "  for i, labels in enumerate(inputs):\n",
        "    for label in labels:\n",
        "      final_arr[i, label2index[label]] = 1\n",
        "  return final_arr"
      ],
      "execution_count": null,
      "outputs": []
    },
    {
      "cell_type": "code",
      "metadata": {
        "id": "zGfbAVRLwuMg"
      },
      "source": [
        "onehot_truths = convert_onehot(ground_truths)\n",
        "onehot_preds = convert_onehot(predictions)"
      ],
      "execution_count": null,
      "outputs": []
    },
    {
      "cell_type": "code",
      "metadata": {
        "id": "xjadPCC3yH1Y"
      },
      "source": [
        "multilabel_confmat = multilabel_confusion_matrix(onehot_truths, onehot_preds)"
      ],
      "execution_count": null,
      "outputs": []
    },
    {
      "cell_type": "code",
      "metadata": {
        "id": "PVBysHlIy89_"
      },
      "source": [
        "cls_report = {}\n",
        "for i in range(multilabel_confmat.shape[0]):\n",
        "  cls_report[index2label[i]] = {}\n",
        "  cls_report[index2label[i]][\"tn\"] = multilabel_confmat[i, 0, 0] + 0.01\n",
        "  cls_report[index2label[i]][\"fp\"] = multilabel_confmat[i, 0, 1] + 0.01\n",
        "  cls_report[index2label[i]][\"fn\"] = multilabel_confmat[i, 1, 0] + 0.01\n",
        "  cls_report[index2label[i]][\"tp\"] = multilabel_confmat[i, 1, 1] + 0.01\n",
        "  cls_report[index2label[i]][\"total\"] = cls_report[index2label[i]][\"tp\"] + cls_report[index2label[i]][\"fn\"]\n",
        "  cls_report[index2label[i]][\"precision\"] = cls_report[index2label[i]][\"tp\"] / (cls_report[index2label[i]][\"fp\"] + cls_report[index2label[i]][\"tp\"])\n",
        "  cls_report[index2label[i]][\"recall\"] = cls_report[index2label[i]][\"tp\"] / (cls_report[index2label[i]][\"fn\"] + cls_report[index2label[i]][\"tp\"])\n",
        "  cls_report[index2label[i]][\"f1\"] = 2 * cls_report[index2label[i]][\"precision\"] * cls_report[index2label[i]][\"recall\"] / (cls_report[index2label[i]][\"precision\"] + cls_report[index2label[i]][\"recall\"])"
      ],
      "execution_count": null,
      "outputs": []
    },
    {
      "cell_type": "code",
      "metadata": {
        "colab": {
          "base_uri": "https://localhost:8080/"
        },
        "id": "1gf3Gh2opsON",
        "outputId": "48236a74-6f08-4430-e7dc-31c1fcdd8730"
      },
      "source": [
        "cls_report"
      ],
      "execution_count": null,
      "outputs": [
        {
          "output_type": "execute_result",
          "data": {
            "text/plain": [
              "{'admiration': {'f1': 0.6660687009342474,\n",
              "  'fn': 129.01,\n",
              "  'fp': 247.01,\n",
              "  'precision': 0.6028905822963891,\n",
              "  'recall': 0.7440379350025793,\n",
              "  'tn': 4676.01,\n",
              "  'total': 504.02,\n",
              "  'tp': 375.01},\n",
              " 'amusement': {'f1': 0.8095842480790341,\n",
              "  'fn': 28.01,\n",
              "  'fp': 83.01,\n",
              "  'precision': 0.7397968779386872,\n",
              "  'recall': 0.8939095523066435,\n",
              "  'tn': 5080.01,\n",
              "  'total': 264.02,\n",
              "  'tp': 236.01},\n",
              " 'anger': {'f1': 0.5059096066565809,\n",
              "  'fn': 91.01,\n",
              "  'fp': 118.01,\n",
              "  'precision': 0.4755577282019376,\n",
              "  'recall': 0.5403999596000404,\n",
              "  'tn': 5111.01,\n",
              "  'total': 198.02,\n",
              "  'tp': 107.01},\n",
              " 'annoyance': {'f1': 0.3688836378306726,\n",
              "  'fn': 192.01,\n",
              "  'fp': 246.01,\n",
              "  'precision': 0.3422544248970643,\n",
              "  'recall': 0.4000062496093994,\n",
              "  'tn': 4861.01,\n",
              "  'total': 320.02,\n",
              "  'tp': 128.01},\n",
              " 'approval': {'f1': 0.3920057596928163,\n",
              "  'fn': 204.01,\n",
              "  'fp': 252.01,\n",
              "  'precision': 0.3684276477369555,\n",
              "  'recall': 0.41880804512563385,\n",
              "  'tn': 4824.01,\n",
              "  'total': 351.02,\n",
              "  'tp': 147.01},\n",
              " 'caring': {'f1': 0.4421133875947235,\n",
              "  'fn': 72.01,\n",
              "  'fp': 87.01,\n",
              "  'precision': 0.420010665244634,\n",
              "  'recall': 0.4666716042067841,\n",
              "  'tn': 5205.01,\n",
              "  'total': 135.02,\n",
              "  'tp': 63.01},\n",
              " 'confusion': {'f1': 0.455336560627017,\n",
              "  'fn': 74.01,\n",
              "  'fp': 115.01,\n",
              "  'precision': 0.40722605916915783,\n",
              "  'recall': 0.5163377336295909,\n",
              "  'tn': 5159.01,\n",
              "  'total': 153.02,\n",
              "  'tp': 79.01},\n",
              " 'curiosity': {'f1': 0.5543145228678068,\n",
              "  'fn': 85.01,\n",
              "  'fp': 235.01,\n",
              "  'precision': 0.45852725680844203,\n",
              "  'recall': 0.7006900922470248,\n",
              "  'tn': 4908.01,\n",
              "  'total': 284.02,\n",
              "  'tp': 199.01},\n",
              " 'desire': {'f1': 0.5066648893628366,\n",
              "  'fn': 45.01,\n",
              "  'fp': 29.01,\n",
              "  'precision': 0.5671441360787824,\n",
              "  'recall': 0.45784148397976393,\n",
              "  'tn': 5315.01,\n",
              "  'total': 83.02,\n",
              "  'tp': 38.01},\n",
              " 'disappointment': {'f1': 0.30347538270583363,\n",
              "  'fn': 107.01,\n",
              "  'fp': 95.01,\n",
              "  'precision': 0.316573154941735,\n",
              "  'recall': 0.2914183551847437,\n",
              "  'tn': 5181.01,\n",
              "  'total': 151.02,\n",
              "  'tp': 44.01},\n",
              " 'disapproval': {'f1': 0.39870997018021526,\n",
              "  'fn': 144.01,\n",
              "  'fp': 227.01,\n",
              "  'precision': 0.35143706073938635,\n",
              "  'recall': 0.4606771028387387,\n",
              "  'tn': 4933.01,\n",
              "  'total': 267.02,\n",
              "  'tp': 123.01},\n",
              " 'disgust': {'f1': 0.4481413873216063,\n",
              "  'fn': 69.01,\n",
              "  'fp': 64.01,\n",
              "  'precision': 0.4576342992713099,\n",
              "  'recall': 0.4390343033653064,\n",
              "  'tn': 5240.01,\n",
              "  'total': 123.02000000000001,\n",
              "  'tp': 54.01},\n",
              " 'embarrassment': {'f1': 0.4918086500655309,\n",
              "  'fn': 22.01,\n",
              "  'fp': 9.01,\n",
              "  'precision': 0.6248959200666112,\n",
              "  'recall': 0.4054565099945975,\n",
              "  'tn': 5381.01,\n",
              "  'total': 37.02,\n",
              "  'tp': 15.01},\n",
              " 'excitement': {'f1': 0.4317300916138125,\n",
              "  'fn': 54.01,\n",
              "  'fp': 75.01,\n",
              "  'precision': 0.39517819706498947,\n",
              "  'recall': 0.47573286740438747,\n",
              "  'tn': 5249.01,\n",
              "  'total': 103.02,\n",
              "  'tp': 49.01},\n",
              " 'fear': {'f1': 0.6666290103931315,\n",
              "  'fn': 19.01,\n",
              "  'fp': 40.01,\n",
              "  'precision': 0.595940214098162,\n",
              "  'recall': 0.7563445270443476,\n",
              "  'tn': 5309.01,\n",
              "  'total': 78.02,\n",
              "  'tp': 59.01},\n",
              " 'gratitude': {'f1': 0.9080391491287623,\n",
              "  'fn': 31.01,\n",
              "  'fp': 34.01,\n",
              "  'precision': 0.9042025801363304,\n",
              "  'recall': 0.9119084142946424,\n",
              "  'tn': 5041.01,\n",
              "  'total': 352.02,\n",
              "  'tp': 321.01},\n",
              " 'grief': {'f1': 0.0033112582781456962,\n",
              "  'fn': 6.01,\n",
              "  'fp': 0.01,\n",
              "  'precision': 0.5,\n",
              "  'recall': 0.0016611295681063125,\n",
              "  'tn': 5421.01,\n",
              "  'total': 6.02,\n",
              "  'tp': 0.01},\n",
              " 'joy': {'f1': 0.6048931996512641,\n",
              "  'fn': 50.01,\n",
              "  'fp': 95.01,\n",
              "  'precision': 0.5388311814386952,\n",
              "  'recall': 0.6894174636691094,\n",
              "  'tn': 5171.01,\n",
              "  'total': 161.02,\n",
              "  'tp': 111.01},\n",
              " 'love': {'f1': 0.7906751414619022,\n",
              "  'fn': 34.01,\n",
              "  'fp': 74.01,\n",
              "  'precision': 0.7337961297748363,\n",
              "  'recall': 0.8571128476598605,\n",
              "  'tn': 5115.01,\n",
              "  'total': 238.01999999999998,\n",
              "  'tp': 204.01},\n",
              " 'nervousness': {'f1': 0.38106565176022833,\n",
              "  'fn': 15.01,\n",
              "  'fp': 11.01,\n",
              "  'precision': 0.42113564668769715,\n",
              "  'recall': 0.34795829713292786,\n",
              "  'tn': 5393.01,\n",
              "  'total': 23.02,\n",
              "  'tp': 8.01},\n",
              " 'neutral': {'f1': 0.6597128461817103,\n",
              "  'fn': 585.01,\n",
              "  'fp': 655.01,\n",
              "  'precision': 0.6472789738398078,\n",
              "  'recall': 0.6726337701872391,\n",
              "  'tn': 2985.01,\n",
              "  'total': 1787.02,\n",
              "  'tp': 1202.01},\n",
              " 'optimism': {'f1': 0.5595793182053672,\n",
              "  'fn': 78.01,\n",
              "  'fp': 92.01,\n",
              "  'precision': 0.53999600039996,\n",
              "  'recall': 0.5806364906999247,\n",
              "  'tn': 5149.01,\n",
              "  'total': 186.02,\n",
              "  'tp': 108.01},\n",
              " 'pride': {'f1': 0.1,\n",
              "  'fn': 16.01,\n",
              "  'fp': 0.01,\n",
              "  'precision': 0.5,\n",
              "  'recall': 0.05,\n",
              "  'tn': 5411.01,\n",
              "  'total': 16.020000000000003,\n",
              "  'tp': 0.01},\n",
              " 'realization': {'f1': 0.22038637519064566,\n",
              "  'fn': 119.01,\n",
              "  'fp': 65.01,\n",
              "  'precision': 0.2857613711272248,\n",
              "  'recall': 0.17935457178320233,\n",
              "  'tn': 5217.01,\n",
              "  'total': 145.02,\n",
              "  'tp': 26.01},\n",
              " 'relief': {'f1': 0.13,\n",
              "  'fn': 11.01,\n",
              "  'fp': 0.01,\n",
              "  'precision': 0.5,\n",
              "  'recall': 0.07,\n",
              "  'tn': 5416.01,\n",
              "  'total': 11.02,\n",
              "  'tp': 0.01},\n",
              " 'remorse': {'f1': 0.6762082853855006,\n",
              "  'fn': 9.01,\n",
              "  'fp': 36.01,\n",
              "  'precision': 0.5662490966032281,\n",
              "  'recall': 0.8391645840771154,\n",
              "  'tn': 5335.01,\n",
              "  'total': 56.019999999999996,\n",
              "  'tp': 47.01},\n",
              " 'sadness': {'f1': 0.5243872698451407,\n",
              "  'fn': 70.01,\n",
              "  'fp': 86.01,\n",
              "  'precision': 0.5,\n",
              "  'recall': 0.5512754775028842,\n",
              "  'tn': 5185.01,\n",
              "  'total': 156.02,\n",
              "  'tp': 86.01},\n",
              " 'surprise': {'f1': 0.5441111601235111,\n",
              "  'fn': 67.01,\n",
              "  'fp': 57.01,\n",
              "  'precision': 0.5648755915127461,\n",
              "  'recall': 0.5248191745851652,\n",
              "  'tn': 5229.01,\n",
              "  'total': 141.02,\n",
              "  'tp': 74.01}}"
            ]
          },
          "metadata": {
            "tags": []
          },
          "execution_count": 27
        }
      ]
    },
    {
      "cell_type": "code",
      "metadata": {
        "id": "FhBDdC0EV-E6"
      },
      "source": [
        "def get_attr_class(cls_report, metric_name):\n",
        "  return [x[metric_name] for x in list(cls_report.values())]"
      ],
      "execution_count": null,
      "outputs": []
    },
    {
      "cell_type": "code",
      "metadata": {
        "colab": {
          "base_uri": "https://localhost:8080/",
          "height": 352
        },
        "id": "lBJIra-yKjFC",
        "outputId": "55c8184d-b5d5-469f-88b4-82f0e90bf94f"
      },
      "source": [
        "fig = plt.figure()\n",
        "ax = fig.add_axes([0,0,1,1])\n",
        "ax.set_title('Number of instances per class in the test set')\n",
        "metric_name = \"total\"\n",
        "ax.bar(list(label2index.values()), [x[metric_name] for x in list(cls_report.values())])\n",
        "plt.show()"
      ],
      "execution_count": null,
      "outputs": [
        {
          "output_type": "display_data",
          "data": {
            "image/png": "[encoded data removed]",
            "text/plain": [
              "<Figure size 432x288 with 1 Axes>"
            ]
          },
          "metadata": {
            "tags": [],
            "needs_background": "light"
          }
        }
      ]
    },
    {
      "cell_type": "code",
      "metadata": {
        "colab": {
          "base_uri": "https://localhost:8080/",
          "height": 352
        },
        "id": "ryrGBSzOV4NQ",
        "outputId": "e0a2a646-ae79-4b81-cdc3-c1adcb6697d4"
      },
      "source": [
        "# make two columns\n",
        "fig = plt.figure()\n",
        "ax = fig.add_axes([0,0,1,1])\n",
        "ax.set_title('F1 score per class in the test set')\n",
        "metric_name = \"f1\"\n",
        "ax.bar(list(label2index.values()), [x[metric_name] for x in list(cls_report.values())])\n",
        "plt.show()"
      ],
      "execution_count": null,
      "outputs": [
        {
          "output_type": "display_data",
          "data": {
            "image/png": "[encoded data removed]",
            "text/plain": [
              "<Figure size 432x288 with 1 Axes>"
            ]
          },
          "metadata": {
            "tags": [],
            "needs_background": "light"
          }
        }
      ]
    },
    {
      "cell_type": "code",
      "metadata": {
        "id": "O0YdQt6pWJnI"
      },
      "source": [
        ""
      ],
      "execution_count": null,
      "outputs": []
    }
  ]
}
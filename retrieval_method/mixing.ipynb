{
  "nbformat": 4,
  "nbformat_minor": 0,
  "metadata": {
    "colab": {
      "name": "mixing.ipynb",
      "provenance": [],
      "collapsed_sections": [],
      "machine_shape": "hm"
    },
    "kernelspec": {
      "name": "python3",
      "display_name": "Python 3"
    },
    "language_info": {
      "name": "python"
    },
    "accelerator": "GPU"
  },
  "cells": [
    {
      "cell_type": "markdown",
      "metadata": {
        "id": "55k8J-h8Uz5K"
      },
      "source": [
        "## Install and import"
      ]
    },
    {
      "cell_type": "code",
      "metadata": {
        "colab": {
          "base_uri": "https://localhost:8080/"
        },
        "id": "TKUheZwrAjys",
        "outputId": "491ecc4d-8dbe-48ce-c940-483b8028f9dc"
      },
      "source": [
        "# !pip install torch==1.4.0\n",
        "# !pip install transformers==2.11.0\n",
        "# !pip install attrdict==2.0.1\n",
        "!pip install datasets transformers attrdict"
      ],
      "execution_count": 1,
      "outputs": [
        {
          "output_type": "stream",
          "text": [
            "Collecting datasets\n",
            "\u001b[?25l  Downloading https://files.pythonhosted.org/packages/df/4f/8ef6e4df6e92fc02da620ccfac249112619e5c21273a836958160d6e96fb/datasets-1.6.1-py3-none-any.whl (220kB)\n",
            "\u001b[K     |████████████████████████████████| 225kB 11.7MB/s \n",
            "\u001b[?25hCollecting transformers\n",
            "\u001b[?25l  Downloading https://files.pythonhosted.org/packages/d8/b2/57495b5309f09fa501866e225c84532d1fd89536ea62406b2181933fb418/transformers-4.5.1-py3-none-any.whl (2.1MB)\n",
            "\u001b[K     |████████████████████████████████| 2.1MB 20.7MB/s \n",
            "\u001b[?25hCollecting attrdict\n",
            "  Downloading https://files.pythonhosted.org/packages/ef/97/28fe7e68bc7adfce67d4339756e85e9fcf3c6fd7f0c0781695352b70472c/attrdict-2.0.1-py2.py3-none-any.whl\n",
            "Requirement already satisfied: multiprocess in /usr/local/lib/python3.7/dist-packages (from datasets) (0.70.11.1)\n",
            "Collecting xxhash\n",
            "\u001b[?25l  Downloading https://files.pythonhosted.org/packages/7d/4f/0a862cad26aa2ed7a7cd87178cbbfa824fc1383e472d63596a0d018374e7/xxhash-2.0.2-cp37-cp37m-manylinux2010_x86_64.whl (243kB)\n",
            "\u001b[K     |████████████████████████████████| 245kB 65.1MB/s \n",
            "\u001b[?25hRequirement already satisfied: tqdm<4.50.0,>=4.27 in /usr/local/lib/python3.7/dist-packages (from datasets) (4.41.1)\n",
            "Collecting fsspec\n",
            "\u001b[?25l  Downloading https://files.pythonhosted.org/packages/e9/91/2ef649137816850fa4f4c97c6f2eabb1a79bf0aa2c8ed198e387e373455e/fsspec-2021.4.0-py3-none-any.whl (108kB)\n",
            "\u001b[K     |████████████████████████████████| 112kB 73.3MB/s \n",
            "\u001b[?25hCollecting huggingface-hub<0.1.0\n",
            "  Downloading https://files.pythonhosted.org/packages/a1/88/7b1e45720ecf59c6c6737ff332f41c955963090a18e72acbcbeac6b25e86/huggingface_hub-0.0.8-py3-none-any.whl\n",
            "Requirement already satisfied: requests>=2.19.0 in /usr/local/lib/python3.7/dist-packages (from datasets) (2.23.0)\n",
            "Requirement already satisfied: pyarrow>=1.0.0 in /usr/local/lib/python3.7/dist-packages (from datasets) (3.0.0)\n",
            "Requirement already satisfied: importlib-metadata; python_version < \"3.8\" in /usr/local/lib/python3.7/dist-packages (from datasets) (3.10.1)\n",
            "Requirement already satisfied: dill in /usr/local/lib/python3.7/dist-packages (from datasets) (0.3.3)\n",
            "Requirement already satisfied: pandas in /usr/local/lib/python3.7/dist-packages (from datasets) (1.1.5)\n",
            "Requirement already satisfied: numpy>=1.17 in /usr/local/lib/python3.7/dist-packages (from datasets) (1.19.5)\n",
            "Requirement already satisfied: packaging in /usr/local/lib/python3.7/dist-packages (from datasets) (20.9)\n",
            "Requirement already satisfied: filelock in /usr/local/lib/python3.7/dist-packages (from transformers) (3.0.12)\n",
            "Collecting tokenizers<0.11,>=0.10.1\n",
            "\u001b[?25l  Downloading https://files.pythonhosted.org/packages/ae/04/5b870f26a858552025a62f1649c20d29d2672c02ff3c3fb4c688ca46467a/tokenizers-0.10.2-cp37-cp37m-manylinux2010_x86_64.whl (3.3MB)\n",
            "\u001b[K     |████████████████████████████████| 3.3MB 71.5MB/s \n",
            "\u001b[?25hCollecting sacremoses\n",
            "\u001b[?25l  Downloading https://files.pythonhosted.org/packages/75/ee/67241dc87f266093c533a2d4d3d69438e57d7a90abb216fa076e7d475d4a/sacremoses-0.0.45-py3-none-any.whl (895kB)\n",
            "\u001b[K     |████████████████████████████████| 901kB 53.5MB/s \n",
            "\u001b[?25hRequirement already satisfied: regex!=2019.12.17 in /usr/local/lib/python3.7/dist-packages (from transformers) (2019.12.20)\n",
            "Requirement already satisfied: six in /usr/local/lib/python3.7/dist-packages (from attrdict) (1.15.0)\n",
            "Requirement already satisfied: idna<3,>=2.5 in /usr/local/lib/python3.7/dist-packages (from requests>=2.19.0->datasets) (2.10)\n",
            "Requirement already satisfied: certifi>=2017.4.17 in /usr/local/lib/python3.7/dist-packages (from requests>=2.19.0->datasets) (2020.12.5)\n",
            "Requirement already satisfied: urllib3!=1.25.0,!=1.25.1,<1.26,>=1.21.1 in /usr/local/lib/python3.7/dist-packages (from requests>=2.19.0->datasets) (1.24.3)\n",
            "Requirement already satisfied: chardet<4,>=3.0.2 in /usr/local/lib/python3.7/dist-packages (from requests>=2.19.0->datasets) (3.0.4)\n",
            "Requirement already satisfied: typing-extensions>=3.6.4; python_version < \"3.8\" in /usr/local/lib/python3.7/dist-packages (from importlib-metadata; python_version < \"3.8\"->datasets) (3.7.4.3)\n",
            "Requirement already satisfied: zipp>=0.5 in /usr/local/lib/python3.7/dist-packages (from importlib-metadata; python_version < \"3.8\"->datasets) (3.4.1)\n",
            "Requirement already satisfied: pytz>=2017.2 in /usr/local/lib/python3.7/dist-packages (from pandas->datasets) (2018.9)\n",
            "Requirement already satisfied: python-dateutil>=2.7.3 in /usr/local/lib/python3.7/dist-packages (from pandas->datasets) (2.8.1)\n",
            "Requirement already satisfied: pyparsing>=2.0.2 in /usr/local/lib/python3.7/dist-packages (from packaging->datasets) (2.4.7)\n",
            "Requirement already satisfied: joblib in /usr/local/lib/python3.7/dist-packages (from sacremoses->transformers) (1.0.1)\n",
            "Requirement already satisfied: click in /usr/local/lib/python3.7/dist-packages (from sacremoses->transformers) (7.1.2)\n",
            "Installing collected packages: xxhash, fsspec, huggingface-hub, datasets, tokenizers, sacremoses, transformers, attrdict\n",
            "Successfully installed attrdict-2.0.1 datasets-1.6.1 fsspec-2021.4.0 huggingface-hub-0.0.8 sacremoses-0.0.45 tokenizers-0.10.2 transformers-4.5.1 xxhash-2.0.2\n"
          ],
          "name": "stdout"
        }
      ]
    },
    {
      "cell_type": "code",
      "metadata": {
        "id": "AuJGaXYXANoX"
      },
      "source": [
        "import torch\n",
        "import torch.nn as nn\n",
        "from transformers import BertPreTrainedModel, BertModel\n",
        "from transformers import BertTokenizer\n",
        "from typing import Union, Optional\n",
        "\n",
        "import numpy as np\n",
        "from transformers.pipelines import ArgumentHandler\n",
        "from transformers import (\n",
        "    Pipeline,\n",
        "    PreTrainedTokenizer,\n",
        "    ModelCard\n",
        ")\n",
        "from pprint import pprint\n",
        "import os\n",
        "import google.colab as colab\n",
        "import pandas as pd\n",
        "import json\n",
        "from sklearn.metrics import multilabel_confusion_matrix\n",
        "import matplotlib.pyplot as plt\n",
        "import random"
      ],
      "execution_count": 22,
      "outputs": []
    },
    {
      "cell_type": "code",
      "metadata": {
        "colab": {
          "base_uri": "https://localhost:8080/"
        },
        "id": "fuuJNk-oQc2P",
        "outputId": "ac4c47d0-4215-4b66-f151-4f533c9a722e"
      },
      "source": [
        "def mount_google_drive():\n",
        "\t'''\n",
        "\t# Functionality\n",
        "\t\tMount google drive. Since colab does not save files, we want to make it easier to directly access files in google drive.\n",
        "\t# Arguments\n",
        "\t\tNothing\n",
        "\t# Returns\n",
        "\t\tdrive_root: the working directory mounted\n",
        "\t'''\n",
        "\tmount_directory = \"/content/gdrive\"\n",
        "\tdrive = colab.drive\n",
        "\tdrive.mount(mount_directory, force_remount=True)\n",
        "\tdrive_root = mount_directory + \"/\" + list(filter(lambda x: x[0] != '.', os.listdir(mount_directory)))[0]\n",
        "\treturn drive_root\n",
        "\n",
        "ROOT_DIR =  mount_google_drive() + \"/goemotion/\"\n",
        "CHECKPOINT_ROOT = ROOT_DIR+ \"goemotion-ckpt/original/checkpoint-10000\""
      ],
      "execution_count": 3,
      "outputs": [
        {
          "output_type": "stream",
          "text": [
            "Mounted at /content/gdrive\n"
          ],
          "name": "stdout"
        }
      ]
    },
    {
      "cell_type": "markdown",
      "metadata": {
        "id": "oD2xFO69mpRP"
      },
      "source": [
        "# Load Data"
      ]
    },
    {
      "cell_type": "code",
      "metadata": {
        "id": "Pf8hY7G-pKWj"
      },
      "source": [
        "# Load training sentences\n",
        "train_df = pd.read_csv(ROOT_DIR + \"data/original/train.tsv\", sep='\\t', header=None, names=[\"sentence\", \"label\", \"encoding\"])\n",
        "train_sentences = train_df.sentence.tolist()"
      ],
      "execution_count": 20,
      "outputs": []
    },
    {
      "cell_type": "code",
      "metadata": {
        "id": "CtZ16mmfmqm-"
      },
      "source": [
        "# Load labels and build dicts\n",
        "with open(ROOT_DIR + \"data/original/labels.txt\", \"r\") as f:\n",
        "  labels = f.read().splitlines()\n",
        "label2index = {v: k for k, v in enumerate(labels)}\n",
        "index2label = {k: v for k, v in enumerate(labels)}\n",
        "\n",
        "\n",
        "# Load test set, get test sents and ground truths\n",
        "test_df = pd.read_csv(ROOT_DIR + \"data/original/test.tsv\", sep='\\t', header=None, names=[\"sentence\", \"label\", \"encoding\"])\n",
        "test_sentences = test_df.sentence.tolist()\n",
        "\n",
        "\n",
        "# Create ground truth label format\n",
        "ground_truths = []\n",
        "for x in test_df.label.tolist():\n",
        "  single_idxs = x.split(\",\")\n",
        "  single_labels = []\n",
        "  for label in single_idxs:\n",
        "    single_labels.append(index2label[int(label)])\n",
        "  ground_truths.append(single_labels)"
      ],
      "execution_count": 33,
      "outputs": []
    },
    {
      "cell_type": "code",
      "metadata": {
        "id": "HsO_swDomvW5"
      },
      "source": [
        "# Load T5 mapping\n",
        "with open(ROOT_DIR + \"t5.json\", 'r') as f:\n",
        "  t5_map = json.load(f)"
      ],
      "execution_count": 18,
      "outputs": []
    },
    {
      "cell_type": "code",
      "metadata": {
        "colab": {
          "base_uri": "https://localhost:8080/"
        },
        "id": "NuK1OgoKoSW7",
        "outputId": "c749d6ba-8007-47bb-c934-60d7323a7fe6"
      },
      "source": [
        "len(t5_map.keys())"
      ],
      "execution_count": 10,
      "outputs": [
        {
          "output_type": "execute_result",
          "data": {
            "text/plain": [
              "5421"
            ]
          },
          "metadata": {
            "tags": []
          },
          "execution_count": 10
        }
      ]
    },
    {
      "cell_type": "code",
      "metadata": {
        "colab": {
          "base_uri": "https://localhost:8080/"
        },
        "id": "H8v3hmOpppPR",
        "outputId": "30aea1fe-9aa3-4791-be71-5f70958047e7"
      },
      "source": [
        "len(train_sentences)"
      ],
      "execution_count": 21,
      "outputs": [
        {
          "output_type": "execute_result",
          "data": {
            "text/plain": [
              "43410"
            ]
          },
          "metadata": {
            "tags": []
          },
          "execution_count": 21
        }
      ]
    },
    {
      "cell_type": "markdown",
      "metadata": {
        "id": "t5KIaRKJU75a"
      },
      "source": [
        "## Model Class"
      ]
    },
    {
      "cell_type": "code",
      "metadata": {
        "id": "hERifRwsCgvD"
      },
      "source": [
        "class BertForMultiLabelClassification(BertPreTrainedModel):\n",
        "    def __init__(self, config):\n",
        "        super().__init__(config)\n",
        "        self.num_labels = config.num_labels\n",
        "\n",
        "        self.bert = BertModel(config)\n",
        "        self.dropout = nn.Dropout(config.hidden_dropout_prob)\n",
        "        self.classifier = nn.Linear(config.hidden_size, self.config.num_labels)\n",
        "        self.loss_fct = nn.BCEWithLogitsLoss()\n",
        "\n",
        "        self.init_weights()\n",
        "\n",
        "        self.mixing_rate = 0.92\n",
        "\n",
        "    def forward(\n",
        "            self,\n",
        "            input_ids=None,\n",
        "            attention_mask=None,\n",
        "            token_type_ids=None,\n",
        "            candidate_input_ids=None,\n",
        "            candidate_attention_mask=None,\n",
        "            candidate_token_type_ids=None,\n",
        "            position_ids=None,\n",
        "            head_mask=None,\n",
        "            inputs_embeds=None,\n",
        "            labels=None,\n",
        "    ):\n",
        "        outputs = self.bert(\n",
        "            input_ids,\n",
        "            attention_mask=attention_mask,\n",
        "            token_type_ids=token_type_ids,\n",
        "            position_ids=position_ids,\n",
        "            head_mask=head_mask,\n",
        "            inputs_embeds=inputs_embeds,\n",
        "        )\n",
        "        if candidate_input_ids is not None and candidate_attention_mask is not None and candidate_token_type_ids is not None:\n",
        "          candidate_outputs = self.bert(\n",
        "              candidate_input_ids,\n",
        "              attention_mask=candidate_attention_mask,\n",
        "              token_type_ids=candidate_token_type_ids,\n",
        "              position_ids=position_ids,\n",
        "              head_mask=head_mask,\n",
        "              inputs_embeds=inputs_embeds,\n",
        "          )\n",
        "          pooled_output = self.mixing_rate * outputs[1] + (1 - self.mixing_rate) * candidate_outputs[1]\n",
        "        else:\n",
        "          pooled_output = outputs[1]\n",
        "\n",
        "        pooled_output = self.dropout(pooled_output)\n",
        "        logits = self.classifier(pooled_output)\n",
        "\n",
        "        outputs = (logits,) + outputs[2:]  # add hidden states and attention if they are here\n",
        "\n",
        "        if labels is not None:\n",
        "            loss = self.loss_fct(logits, labels)\n",
        "            outputs = (loss,) + outputs\n",
        "\n",
        "        return outputs  # (loss), logits, (hidden_states), (attentions)"
      ],
      "execution_count": 238,
      "outputs": []
    },
    {
      "cell_type": "markdown",
      "metadata": {
        "id": "w7BwhC2r_DB4"
      },
      "source": [
        "# Retrieval helpers"
      ]
    },
    {
      "cell_type": "code",
      "metadata": {
        "id": "GNx7ivqGmdGr"
      },
      "source": [
        "#TODO:\n",
        "# 1. Build bertscore similarity metrics\n",
        "# 2. Build uda back-translation"
      ],
      "execution_count": 239,
      "outputs": []
    },
    {
      "cell_type": "code",
      "metadata": {
        "id": "NXP_HKrm_Edg"
      },
      "source": [
        "def generate_candidates(test_sents, type):\n",
        "  # for each t5 paraphrase, we have 10; just randomly pick one\n",
        "  if type == \"t5\":\n",
        "    return [t5_map[x][random.randint(0, len(t5_map[x]) - 1)] for x in test_sents]\n",
        "  else:\n",
        "    # How about just return random training questions\n",
        "    random_indexes = random.sample(range(len(train_sentences)), len(test_sents))\n",
        "    return list(itemgetter(*random_indexes)(train_sentences))"
      ],
      "execution_count": 240,
      "outputs": []
    },
    {
      "cell_type": "markdown",
      "metadata": {
        "id": "RMbWJfoseqti"
      },
      "source": [
        "# Inference On Testset"
      ]
    },
    {
      "cell_type": "code",
      "metadata": {
        "id": "9-yX-nBYLY1w"
      },
      "source": [
        "device = 0\n",
        "threshold = 0.3\n",
        "tokenizer = BertTokenizer.from_pretrained(CHECKPOINT_ROOT)\n",
        "model = BertForMultiLabelClassification.from_pretrained(CHECKPOINT_ROOT)\n",
        "model = model.to(device)\n",
        "\n",
        "# goemotions = MultiLabelPipeline(\n",
        "#     model=model,\n",
        "#     tokenizer=tokenizer,\n",
        "#     threshold=0.3\n",
        "# )\n",
        "\n",
        "def goemotions(test_sents):\n",
        "  torch.cuda.set_device(device)\n",
        "  # 1. Get candidate sentences\n",
        "  candidates = generate_candidates(test_sents, \"t5\")\n",
        "  # 2. Tokenizer pass for both test inputs and candidate inputs\n",
        "  test_inputs = tokenizer(\n",
        "            test_sents,\n",
        "            add_special_tokens=True,\n",
        "            return_tensors=\"pt\",\n",
        "            padding=True,\n",
        "            truncation=False,\n",
        "        )\n",
        "  \n",
        "  candidate_inputs = tokenizer(\n",
        "            candidates,\n",
        "            add_special_tokens=True,\n",
        "            return_tensors=\"pt\",\n",
        "            padding=True,\n",
        "            truncation=False,\n",
        "        )\n",
        "  with torch.no_grad():\n",
        "    # 3. Model Forward pass\n",
        "    test_inputs = {name: tensor.to(device) for name, tensor in test_inputs.items()}\n",
        "    candidate_inputs = {name: tensor.to(device) for name, tensor in candidate_inputs.items()}\n",
        "    # outputs = model(**inputs)[0].cpu()\n",
        "    outputs = model(input_ids=test_inputs[\"input_ids\"],\n",
        "                    attention_mask=test_inputs[\"attention_mask\"],\n",
        "                    token_type_ids=test_inputs[\"token_type_ids\"],\n",
        "                    candidate_input_ids=candidate_inputs[\"input_ids\"],\n",
        "                    candidate_attention_mask=candidate_inputs[\"attention_mask\"],\n",
        "                    candidate_token_type_ids=candidate_inputs[\"token_type_ids\"],\n",
        "                    )[0].cpu()\n",
        "    # 4. Inference output post-processing\n",
        "    scores = 1 / (1 + np.exp(-outputs))  # Sigmoid\n",
        "    results = []\n",
        "    for item in scores:\n",
        "        labels = []\n",
        "        scores = []\n",
        "        for idx, s in enumerate(item):\n",
        "            if s > threshold:\n",
        "                labels.append(model.config.id2label[idx])\n",
        "                scores.append(float(s))\n",
        "        results.append({\"labels\": labels, \"scores\": scores})\n",
        "    return results\n",
        "\n",
        "\n",
        "# pprint(test_sentences[:5])\n",
        "# pprint(goemotions(test_sentences[:5]))\n",
        "\n",
        "# Output\n",
        "#  [{'labels': ['neutral'], 'scores': [0.9750906]},\n",
        "#  {'labels': ['curiosity', 'love'], 'scores': [0.9694574, 0.9227462]},\n",
        "#  {'labels': ['love'], 'scores': [0.993483]},\n",
        "#  {'labels': ['anger'], 'scores': [0.99225825]}]\n",
        "\n",
        "# [{'labels': ['optimism'], 'scores': [0.3206218481063843]},\n",
        "#  {'labels': ['curiosity', 'love'],\n",
        "#   'scores': [0.4122002422809601, 0.8766248226165771]},\n",
        "#  {'labels': ['love'], 'scores': [0.9667580723762512]},\n",
        "#  {'labels': ['anger'], 'scores': [0.9185698628425598]}]"
      ],
      "execution_count": 241,
      "outputs": []
    },
    {
      "cell_type": "markdown",
      "metadata": {
        "id": "PAG9X4FCVKYa"
      },
      "source": [
        "## Generate and load predictions"
      ]
    },
    {
      "cell_type": "code",
      "metadata": {
        "id": "I8mwrHuGA5Ri"
      },
      "source": [
        "prediction_filename = ROOT_DIR + \"data/original/t5_predictions_epoch4.json\"\n",
        "# prediction_filename = ROOT_DIR + \"data/original/predictions_epoch4.json\""
      ],
      "execution_count": 242,
      "outputs": []
    },
    {
      "cell_type": "code",
      "metadata": {
        "id": "JGV_2xe-KHZu"
      },
      "source": [
        "raw_predictions = []\n",
        "batch_size = 81\n",
        "num_batches = len(test_sentences) / batch_size\n",
        "\n",
        "i = 0\n",
        "while i < len(test_sentences):\n",
        "  raw_predictions += goemotions(test_sentences[i: i + batch_size])\n",
        "  i = i + batch_size\n",
        "\n",
        "with open(prediction_filename, 'w') as f:\n",
        "  json.dump(raw_predictions, f)"
      ],
      "execution_count": 243,
      "outputs": []
    },
    {
      "cell_type": "code",
      "metadata": {
        "id": "ifKtNZvPPXzV"
      },
      "source": [
        "with open(prediction_filename, 'r') as f:\n",
        "  raw_predictions = json.load(f)"
      ],
      "execution_count": 244,
      "outputs": []
    },
    {
      "cell_type": "code",
      "metadata": {
        "id": "OuxQMe7sRweS"
      },
      "source": [
        "predictions = [x[\"labels\"] for x in raw_predictions]"
      ],
      "execution_count": 245,
      "outputs": []
    },
    {
      "cell_type": "code",
      "metadata": {
        "colab": {
          "base_uri": "https://localhost:8080/"
        },
        "id": "23NtvvUZRxT-",
        "outputId": "96d65704-e76d-4010-b222-c1afc90aa44d"
      },
      "source": [
        "len(ground_truths) == len(predictions)"
      ],
      "execution_count": 246,
      "outputs": [
        {
          "output_type": "execute_result",
          "data": {
            "text/plain": [
              "True"
            ]
          },
          "metadata": {
            "tags": []
          },
          "execution_count": 246
        }
      ]
    },
    {
      "cell_type": "code",
      "metadata": {
        "id": "PJVNXZ17m0X-"
      },
      "source": [
        "# num_em = 0\n",
        "# for i, (pred, truth) in enumerate(zip(predictions, ground_truths)):\n",
        "#   if pred != truth and \"grief\" in truth:\n",
        "#     num_em += 1\n",
        "#     print(test_sentences[i])\n",
        "#     print(pred)\n",
        "#     print(truth)\n",
        "#     print(\"------------------\")\n",
        "# # print(num_em / len(predictions))"
      ],
      "execution_count": 247,
      "outputs": []
    },
    {
      "cell_type": "code",
      "metadata": {
        "id": "MlGpWLT0oy2Q"
      },
      "source": [
        "# num_em = 0\n",
        "# for i, (pred, truth) in enumerate(zip(predictions, ground_truths)):\n",
        "#   if pred != truth and \"pride\" in truth:\n",
        "#     num_em += 1\n",
        "#     print(test_sentences[i])\n",
        "#     print(pred)\n",
        "#     print(truth)\n",
        "#     print(\"------------------\")\n",
        "# # print(num_em / len(predictions))"
      ],
      "execution_count": 248,
      "outputs": []
    },
    {
      "cell_type": "code",
      "metadata": {
        "id": "diUvI-fzo50k"
      },
      "source": [
        "# num_em = 0\n",
        "# for i, (pred, truth) in enumerate(zip(predictions, ground_truths)):\n",
        "#   if pred != truth and \"relief\" in truth:\n",
        "#     num_em += 1\n",
        "#     print(test_sentences[i])\n",
        "#     print(pred)\n",
        "#     print(truth)\n",
        "#     print(\"------------------\")\n",
        "# # print(num_em / len(predictions))"
      ],
      "execution_count": 249,
      "outputs": []
    },
    {
      "cell_type": "code",
      "metadata": {
        "id": "C4axG-t-vMH4"
      },
      "source": [
        "def convert_onehot(inputs):\n",
        "  final_arr = np.zeros((len(inputs), len(label2index.keys())))\n",
        "  for i, labels in enumerate(inputs):\n",
        "    for label in labels:\n",
        "      final_arr[i, label2index[label]] = 1\n",
        "  return final_arr"
      ],
      "execution_count": 250,
      "outputs": []
    },
    {
      "cell_type": "code",
      "metadata": {
        "id": "zGfbAVRLwuMg"
      },
      "source": [
        "onehot_truths = convert_onehot(ground_truths)\n",
        "onehot_preds = convert_onehot(predictions)"
      ],
      "execution_count": 251,
      "outputs": []
    },
    {
      "cell_type": "code",
      "metadata": {
        "id": "xjadPCC3yH1Y"
      },
      "source": [
        "multilabel_confmat = multilabel_confusion_matrix(onehot_truths, onehot_preds)"
      ],
      "execution_count": 252,
      "outputs": []
    },
    {
      "cell_type": "code",
      "metadata": {
        "id": "PVBysHlIy89_"
      },
      "source": [
        "cls_report = {}\n",
        "for i in range(multilabel_confmat.shape[0]):\n",
        "  cls_report[index2label[i]] = {}\n",
        "  cls_report[index2label[i]][\"tn\"] = multilabel_confmat[i, 0, 0] + 0.01\n",
        "  cls_report[index2label[i]][\"fp\"] = multilabel_confmat[i, 0, 1] + 0.01\n",
        "  cls_report[index2label[i]][\"fn\"] = multilabel_confmat[i, 1, 0] + 0.01\n",
        "  cls_report[index2label[i]][\"tp\"] = multilabel_confmat[i, 1, 1] + 0.01\n",
        "  cls_report[index2label[i]][\"total\"] = cls_report[index2label[i]][\"tp\"] + cls_report[index2label[i]][\"fn\"]\n",
        "  cls_report[index2label[i]][\"precision\"] = cls_report[index2label[i]][\"tp\"] / (cls_report[index2label[i]][\"fp\"] + cls_report[index2label[i]][\"tp\"])\n",
        "  cls_report[index2label[i]][\"recall\"] = cls_report[index2label[i]][\"tp\"] / (cls_report[index2label[i]][\"fn\"] + cls_report[index2label[i]][\"tp\"])\n",
        "  cls_report[index2label[i]][\"f1\"] = 2 * cls_report[index2label[i]][\"precision\"] * cls_report[index2label[i]][\"recall\"] / (cls_report[index2label[i]][\"precision\"] + cls_report[index2label[i]][\"recall\"])"
      ],
      "execution_count": 253,
      "outputs": []
    },
    {
      "cell_type": "code",
      "metadata": {
        "colab": {
          "base_uri": "https://localhost:8080/"
        },
        "id": "1gf3Gh2opsON",
        "outputId": "b0dad29c-5a67-4e71-a7e0-0099bcdfe168"
      },
      "source": [
        "cls_report"
      ],
      "execution_count": 254,
      "outputs": [
        {
          "output_type": "execute_result",
          "data": {
            "text/plain": [
              "{'admiration': {'f1': 0.6738481995256235,\n",
              "  'fn': 129.01,\n",
              "  'fp': 234.01,\n",
              "  'precision': 0.6157597451643624,\n",
              "  'recall': 0.7440379350025793,\n",
              "  'tn': 4689.01,\n",
              "  'total': 504.02,\n",
              "  'tp': 375.01},\n",
              " 'amusement': {'f1': 0.8090063190056247,\n",
              "  'fn': 31.01,\n",
              "  'fp': 79.01,\n",
              "  'precision': 0.7467790526248318,\n",
              "  'recall': 0.8825467767593365,\n",
              "  'tn': 5084.01,\n",
              "  'total': 264.02,\n",
              "  'tp': 233.01},\n",
              " 'anger': {'f1': 0.49878946349021885,\n",
              "  'fn': 95.01,\n",
              "  'fp': 112.01,\n",
              "  'precision': 0.4790717142591387,\n",
              "  'recall': 0.5201999798000202,\n",
              "  'tn': 5117.01,\n",
              "  'total': 198.02,\n",
              "  'tp': 103.01},\n",
              " 'annoyance': {'f1': 0.37160896622560574,\n",
              "  'fn': 197.01,\n",
              "  'fp': 219.01,\n",
              "  'precision': 0.35965732998070293,\n",
              "  'recall': 0.3843822261108681,\n",
              "  'tn': 4888.01,\n",
              "  'total': 320.02,\n",
              "  'tp': 123.01},\n",
              " 'approval': {'f1': 0.39499888740542943,\n",
              "  'fn': 209.01,\n",
              "  'fp': 226.01,\n",
              "  'precision': 0.3858757676213249,\n",
              "  'recall': 0.40456384251609595,\n",
              "  'tn': 4850.01,\n",
              "  'total': 351.02,\n",
              "  'tp': 142.01},\n",
              " 'caring': {'f1': 0.43543388429752067,\n",
              "  'fn': 76.01,\n",
              "  'fp': 77.01,\n",
              "  'precision': 0.4338332598147331,\n",
              "  'recall': 0.4370463635017034,\n",
              "  'tn': 5215.01,\n",
              "  'total': 135.02,\n",
              "  'tp': 59.01},\n",
              " 'confusion': {'f1': 0.456652410125997,\n",
              "  'fn': 74.01,\n",
              "  'fp': 114.01,\n",
              "  'precision': 0.4093358201222671,\n",
              "  'recall': 0.5163377336295909,\n",
              "  'tn': 5160.01,\n",
              "  'total': 153.02,\n",
              "  'tp': 79.01},\n",
              " 'curiosity': {'f1': 0.5526646968702122,\n",
              "  'fn': 82.01,\n",
              "  'fp': 245.01,\n",
              "  'precision': 0.45190371795445394,\n",
              "  'recall': 0.7112527286810788,\n",
              "  'tn': 4898.01,\n",
              "  'total': 284.02,\n",
              "  'tp': 202.01},\n",
              " 'desire': {'f1': 0.5,\n",
              "  'fn': 47.01,\n",
              "  'fp': 25.01,\n",
              "  'precision': 0.5901343821697804,\n",
              "  'recall': 0.43375090339677186,\n",
              "  'tn': 5319.01,\n",
              "  'total': 83.02,\n",
              "  'tp': 36.01},\n",
              " 'disappointment': {'f1': 0.31543864678899075,\n",
              "  'fn': 107.01,\n",
              "  'fp': 84.01,\n",
              "  'precision': 0.34377441024839867,\n",
              "  'recall': 0.2914183551847437,\n",
              "  'tn': 5192.01,\n",
              "  'total': 151.02,\n",
              "  'tp': 44.01},\n",
              " 'disapproval': {'f1': 0.39531689669033904,\n",
              "  'fn': 149.01,\n",
              "  'fp': 212.01,\n",
              "  'precision': 0.3575843888249197,\n",
              "  'recall': 0.44195191371432857,\n",
              "  'tn': 4948.01,\n",
              "  'total': 267.02,\n",
              "  'tp': 118.01},\n",
              " 'disgust': {'f1': 0.4482847784864678,\n",
              "  'fn': 71.01,\n",
              "  'fp': 57.01,\n",
              "  'precision': 0.47706842781141073,\n",
              "  'recall': 0.4227767842627215,\n",
              "  'tn': 5247.01,\n",
              "  'total': 123.02000000000001,\n",
              "  'tp': 52.01},\n",
              " 'embarrassment': {'f1': 0.47459349593495936,\n",
              "  'fn': 23.01,\n",
              "  'fp': 8.01,\n",
              "  'precision': 0.6362397820163488,\n",
              "  'recall': 0.3784440842787682,\n",
              "  'tn': 5382.01,\n",
              "  'total': 37.02,\n",
              "  'tp': 14.01},\n",
              " 'excitement': {'f1': 0.45071348103642506,\n",
              "  'fn': 55.01,\n",
              "  'fp': 62.01,\n",
              "  'precision': 0.4363752045082712,\n",
              "  'recall': 0.4660260143661425,\n",
              "  'tn': 5262.01,\n",
              "  'total': 103.02,\n",
              "  'tp': 48.01},\n",
              " 'fear': {'f1': 0.6666269935729588,\n",
              "  'fn': 22.01,\n",
              "  'fp': 34.01,\n",
              "  'precision': 0.6221950677627194,\n",
              "  'recall': 0.7178928479876955,\n",
              "  'tn': 5315.01,\n",
              "  'total': 78.02,\n",
              "  'tp': 56.01},\n",
              " 'gratitude': {'f1': 0.914749161979433,\n",
              "  'fn': 30.01,\n",
              "  'fp': 30.01,\n",
              "  'precision': 0.914749161979433,\n",
              "  'recall': 0.914749161979433,\n",
              "  'tn': 5045.01,\n",
              "  'total': 352.02,\n",
              "  'tp': 322.01},\n",
              " 'grief': {'f1': 0.0033112582781456962,\n",
              "  'fn': 6.01,\n",
              "  'fp': 0.01,\n",
              "  'precision': 0.5,\n",
              "  'recall': 0.0016611295681063125,\n",
              "  'tn': 5421.01,\n",
              "  'total': 6.02,\n",
              "  'tp': 0.01},\n",
              " 'joy': {'f1': 0.6101570444017625,\n",
              "  'fn': 53.01,\n",
              "  'fp': 85.01,\n",
              "  'precision': 0.5595793182053673,\n",
              "  'recall': 0.6707862377344429,\n",
              "  'tn': 5181.01,\n",
              "  'total': 161.02,\n",
              "  'tp': 108.01},\n",
              " 'love': {'f1': 0.7960552113559721,\n",
              "  'fn': 35.01,\n",
              "  'fp': 69.01,\n",
              "  'precision': 0.7463054187192119,\n",
              "  'recall': 0.8529115200403328,\n",
              "  'tn': 5120.01,\n",
              "  'total': 238.01999999999998,\n",
              "  'tp': 203.01},\n",
              " 'nervousness': {'f1': 0.4103483606557377,\n",
              "  'fn': 15.01,\n",
              "  'fp': 8.01,\n",
              "  'precision': 0.5,\n",
              "  'recall': 0.34795829713292786,\n",
              "  'tn': 5396.01,\n",
              "  'total': 23.02,\n",
              "  'tp': 8.01},\n",
              " 'neutral': {'f1': 0.6584140988547981,\n",
              "  'fn': 590.01,\n",
              "  'fp': 652.01,\n",
              "  'precision': 0.6473753664103147,\n",
              "  'recall': 0.6698358160513033,\n",
              "  'tn': 2988.01,\n",
              "  'total': 1787.02,\n",
              "  'tp': 1197.01},\n",
              " 'optimism': {'f1': 0.5683572807205662,\n",
              "  'fn': 80.01,\n",
              "  'fp': 81.01,\n",
              "  'precision': 0.5668377713613517,\n",
              "  'recall': 0.5698849586066015,\n",
              "  'tn': 5160.01,\n",
              "  'total': 186.02,\n",
              "  'tp': 106.01},\n",
              " 'pride': {'f1': 0.0012468827930174561,\n",
              "  'fn': 16.01,\n",
              "  'fp': 0.01,\n",
              "  'precision': 0.5,\n",
              "  'recall': 0.0006242197253433207,\n",
              "  'tn': 5411.01,\n",
              "  'total': 16.020000000000003,\n",
              "  'tp': 0.01},\n",
              " 'realization': {'f1': 0.22227159616068257,\n",
              "  'fn': 120.01,\n",
              "  'fp': 55.01,\n",
              "  'precision': 0.31254686328417897,\n",
              "  'recall': 0.17245897117638948,\n",
              "  'tn': 5227.01,\n",
              "  'total': 145.02,\n",
              "  'tp': 25.01},\n",
              " 'relief': {'f1': 0.001811594202898551,\n",
              "  'fn': 11.01,\n",
              "  'fp': 0.01,\n",
              "  'precision': 0.5,\n",
              "  'recall': 0.0009074410163339384,\n",
              "  'tn': 5416.01,\n",
              "  'total': 11.02,\n",
              "  'tp': 0.01},\n",
              " 'remorse': {'f1': 0.6666172985781991,\n",
              "  'fn': 11.01,\n",
              "  'fp': 34.01,\n",
              "  'precision': 0.5696026322450013,\n",
              "  'recall': 0.8034630489111032,\n",
              "  'tn': 5337.01,\n",
              "  'total': 56.019999999999996,\n",
              "  'tp': 45.01},\n",
              " 'sadness': {'f1': 0.5312460942382201,\n",
              "  'fn': 71.01,\n",
              "  'fp': 79.01,\n",
              "  'precision': 0.5182904523838556,\n",
              "  'recall': 0.5448660428150237,\n",
              "  'tn': 5192.01,\n",
              "  'total': 156.02,\n",
              "  'tp': 85.01},\n",
              " 'surprise': {'f1': 0.5399178832116788,\n",
              "  'fn': 70.01,\n",
              "  'fp': 51.01,\n",
              "  'precision': 0.581953778069169,\n",
              "  'recall': 0.5035455963693093,\n",
              "  'tn': 5235.01,\n",
              "  'total': 141.02,\n",
              "  'tp': 71.01}}"
            ]
          },
          "metadata": {
            "tags": []
          },
          "execution_count": 254
        }
      ]
    },
    {
      "cell_type": "code",
      "metadata": {
        "id": "FhBDdC0EV-E6"
      },
      "source": [
        "def get_attr_class(cls_report, metric_name):\n",
        "  return [x[metric_name] for x in list(cls_report.values())]"
      ],
      "execution_count": 255,
      "outputs": []
    },
    {
      "cell_type": "code",
      "metadata": {
        "colab": {
          "base_uri": "https://localhost:8080/",
          "height": 352
        },
        "id": "lBJIra-yKjFC",
        "outputId": "5fbe7890-5667-477d-b5ba-bfd40b4c939e"
      },
      "source": [
        "fig = plt.figure()\n",
        "ax = fig.add_axes([0,0,1,1])\n",
        "ax.set_title('Number of instances per class in the test set')\n",
        "metric_name = \"total\"\n",
        "ax.bar(list(label2index.values()), [x[metric_name] for x in list(cls_report.values())])\n",
        "plt.show()"
      ],
      "execution_count": 256,
      "outputs": [
        {
          "output_type": "display_data",
          "data": {
            "image/png": "[encoded data removed]",
            "text/plain": [
              "<Figure size 432x288 with 1 Axes>"
            ]
          },
          "metadata": {
            "tags": [],
            "needs_background": "light"
          }
        }
      ]
    },
    {
      "cell_type": "code",
      "metadata": {
        "colab": {
          "base_uri": "https://localhost:8080/",
          "height": 352
        },
        "id": "ryrGBSzOV4NQ",
        "outputId": "73ea8bc6-5b9f-40e2-e635-d65019f68155"
      },
      "source": [
        "# make two columns\n",
        "fig = plt.figure()\n",
        "ax = fig.add_axes([0,0,1,1])\n",
        "ax.set_title('F1 score per class in the test set')\n",
        "metric_name = \"f1\"\n",
        "ax.bar(list(label2index.values()), [x[metric_name] for x in list(cls_report.values())])\n",
        "plt.show()"
      ],
      "execution_count": 257,
      "outputs": [
        {
          "output_type": "display_data",
          "data": {
            "image/png": "[encoded data removed]",
            "text/plain": [
              "<Figure size 432x288 with 1 Axes>"
            ]
          },
          "metadata": {
            "tags": [],
            "needs_background": "light"
          }
        }
      ]
    },
    {
      "cell_type": "code",
      "metadata": {
        "id": "O0YdQt6pWJnI",
        "colab": {
          "base_uri": "https://localhost:8080/"
        },
        "outputId": "16c6c107-d579-4fd9-d9a8-42f57eb3d615"
      },
      "source": [
        "sum([x[metric_name] for x in list(cls_report.values())]) / len([x[metric_name] for x in list(cls_report.values())])"
      ],
      "execution_count": 258,
      "outputs": [
        {
          "output_type": "execute_result",
          "data": {
            "text/plain": [
              "0.47744574588883876"
            ]
          },
          "metadata": {
            "tags": []
          },
          "execution_count": 258
        }
      ]
    },
    {
      "cell_type": "code",
      "metadata": {
        "id": "Zu2G042hAi4i"
      },
      "source": [
        "# 0.4756"
      ],
      "execution_count": null,
      "outputs": []
    }
  ]
}
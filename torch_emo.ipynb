{
  "nbformat": 4,
  "nbformat_minor": 0,
  "metadata": {
    "colab": {
      "name": "torch-emo.ipynb",
      "provenance": [],
      "collapsed_sections": [],
      "machine_shape": "hm"
    },
    "kernelspec": {
      "name": "python3",
      "display_name": "Python 3"
    },
    "language_info": {
      "name": "python"
    },
    "accelerator": "GPU"
  },
  "cells": [
    {
      "cell_type": "markdown",
      "metadata": {
        "id": "55k8J-h8Uz5K"
      },
      "source": [
        "## Install and import"
      ]
    },
    {
      "cell_type": "code",
      "metadata": {
        "colab": {
          "base_uri": "https://localhost:8080/"
        },
        "id": "TKUheZwrAjys",
        "outputId": "0c679b65-9700-4e8a-a3a6-90a6b6fc4cfa"
      },
      "source": [
        "!pip install torch==1.4.0\n",
        "!pip install transformers==2.11.0\n",
        "!pip install attrdict==2.0.1"
      ],
      "execution_count": 1,
      "outputs": [
        {
          "output_type": "stream",
          "text": [
            "Collecting torch==1.4.0\n",
            "\u001b[?25l  Downloading https://files.pythonhosted.org/packages/1a/3b/fa92ece1e58a6a48ec598bab327f39d69808133e5b2fb33002ca754e381e/torch-1.4.0-cp37-cp37m-manylinux1_x86_64.whl (753.4MB)\n",
            "\u001b[K     |████████████████████████████████| 753.4MB 19kB/s \n",
            "\u001b[31mERROR: torchvision 0.9.1+cu101 has requirement torch==1.8.1, but you'll have torch 1.4.0 which is incompatible.\u001b[0m\n",
            "\u001b[31mERROR: torchtext 0.9.1 has requirement torch==1.8.1, but you'll have torch 1.4.0 which is incompatible.\u001b[0m\n",
            "\u001b[?25hInstalling collected packages: torch\n",
            "  Found existing installation: torch 1.8.1+cu101\n",
            "    Uninstalling torch-1.8.1+cu101:\n",
            "      Successfully uninstalled torch-1.8.1+cu101\n",
            "Successfully installed torch-1.4.0\n",
            "Collecting transformers==2.11.0\n",
            "\u001b[?25l  Downloading https://files.pythonhosted.org/packages/48/35/ad2c5b1b8f99feaaf9d7cdadaeef261f098c6e1a6a2935d4d07662a6b780/transformers-2.11.0-py3-none-any.whl (674kB)\n",
            "\u001b[K     |████████████████████████████████| 675kB 5.8MB/s \n",
            "\u001b[?25hRequirement already satisfied: numpy in /usr/local/lib/python3.7/dist-packages (from transformers==2.11.0) (1.19.5)\n",
            "Requirement already satisfied: regex!=2019.12.17 in /usr/local/lib/python3.7/dist-packages (from transformers==2.11.0) (2019.12.20)\n",
            "Requirement already satisfied: filelock in /usr/local/lib/python3.7/dist-packages (from transformers==2.11.0) (3.0.12)\n",
            "Collecting sentencepiece\n",
            "\u001b[?25l  Downloading https://files.pythonhosted.org/packages/f5/99/e0808cb947ba10f575839c43e8fafc9cc44e4a7a2c8f79c60db48220a577/sentencepiece-0.1.95-cp37-cp37m-manylinux2014_x86_64.whl (1.2MB)\n",
            "\u001b[K     |████████████████████████████████| 1.2MB 9.3MB/s \n",
            "\u001b[?25hRequirement already satisfied: tqdm>=4.27 in /usr/local/lib/python3.7/dist-packages (from transformers==2.11.0) (4.41.1)\n",
            "Requirement already satisfied: requests in /usr/local/lib/python3.7/dist-packages (from transformers==2.11.0) (2.23.0)\n",
            "Collecting tokenizers==0.7.0\n",
            "\u001b[?25l  Downloading https://files.pythonhosted.org/packages/ea/59/bb06dd5ca53547d523422d32735585493e0103c992a52a97ba3aa3be33bf/tokenizers-0.7.0-cp37-cp37m-manylinux1_x86_64.whl (5.6MB)\n",
            "\u001b[K     |████████████████████████████████| 5.6MB 18.3MB/s \n",
            "\u001b[?25hCollecting sacremoses\n",
            "\u001b[?25l  Downloading https://files.pythonhosted.org/packages/08/cd/342e584ee544d044fb573ae697404ce22ede086c9e87ce5960772084cad0/sacremoses-0.0.44.tar.gz (862kB)\n",
            "\u001b[K     |████████████████████████████████| 870kB 41.5MB/s \n",
            "\u001b[?25hRequirement already satisfied: packaging in /usr/local/lib/python3.7/dist-packages (from transformers==2.11.0) (20.9)\n",
            "Requirement already satisfied: certifi>=2017.4.17 in /usr/local/lib/python3.7/dist-packages (from requests->transformers==2.11.0) (2020.12.5)\n",
            "Requirement already satisfied: idna<3,>=2.5 in /usr/local/lib/python3.7/dist-packages (from requests->transformers==2.11.0) (2.10)\n",
            "Requirement already satisfied: urllib3!=1.25.0,!=1.25.1,<1.26,>=1.21.1 in /usr/local/lib/python3.7/dist-packages (from requests->transformers==2.11.0) (1.24.3)\n",
            "Requirement already satisfied: chardet<4,>=3.0.2 in /usr/local/lib/python3.7/dist-packages (from requests->transformers==2.11.0) (3.0.4)\n",
            "Requirement already satisfied: six in /usr/local/lib/python3.7/dist-packages (from sacremoses->transformers==2.11.0) (1.15.0)\n",
            "Requirement already satisfied: click in /usr/local/lib/python3.7/dist-packages (from sacremoses->transformers==2.11.0) (7.1.2)\n",
            "Requirement already satisfied: joblib in /usr/local/lib/python3.7/dist-packages (from sacremoses->transformers==2.11.0) (1.0.1)\n",
            "Requirement already satisfied: pyparsing>=2.0.2 in /usr/local/lib/python3.7/dist-packages (from packaging->transformers==2.11.0) (2.4.7)\n",
            "Building wheels for collected packages: sacremoses\n",
            "  Building wheel for sacremoses (setup.py) ... \u001b[?25l\u001b[?25hdone\n",
            "  Created wheel for sacremoses: filename=sacremoses-0.0.44-cp37-none-any.whl size=886084 sha256=0077b3f47abdf8af8544326942cf9eaf581dedf65e4639ef9b1fde96999cd627\n",
            "  Stored in directory: /root/.cache/pip/wheels/3e/fb/c0/13ab4d63d537658f448366744654323077c4d90069b6512f3c\n",
            "Successfully built sacremoses\n",
            "Installing collected packages: sentencepiece, tokenizers, sacremoses, transformers\n",
            "Successfully installed sacremoses-0.0.44 sentencepiece-0.1.95 tokenizers-0.7.0 transformers-2.11.0\n",
            "Collecting attrdict==2.0.1\n",
            "  Downloading https://files.pythonhosted.org/packages/ef/97/28fe7e68bc7adfce67d4339756e85e9fcf3c6fd7f0c0781695352b70472c/attrdict-2.0.1-py2.py3-none-any.whl\n",
            "Requirement already satisfied: six in /usr/local/lib/python3.7/dist-packages (from attrdict==2.0.1) (1.15.0)\n",
            "Installing collected packages: attrdict\n",
            "Successfully installed attrdict-2.0.1\n"
          ],
          "name": "stdout"
        }
      ]
    },
    {
      "cell_type": "code",
      "metadata": {
        "id": "AuJGaXYXANoX"
      },
      "source": [
        "import torch.nn as nn\n",
        "from transformers import BertPreTrainedModel, BertModel\n",
        "from transformers import BertTokenizer\n",
        "from typing import Union, Optional\n",
        "\n",
        "import numpy as np\n",
        "from transformers.pipelines import ArgumentHandler\n",
        "from transformers import (\n",
        "    Pipeline,\n",
        "    PreTrainedTokenizer,\n",
        "    ModelCard\n",
        ")\n",
        "from pprint import pprint\n",
        "import os\n",
        "import google.colab as colab\n",
        "import pandas as pd\n",
        "import json\n",
        "from sklearn.metrics import multilabel_confusion_matrix\n",
        "import matplotlib.pyplot as plt"
      ],
      "execution_count": 1,
      "outputs": []
    },
    {
      "cell_type": "code",
      "metadata": {
        "colab": {
          "base_uri": "https://localhost:8080/"
        },
        "id": "fuuJNk-oQc2P",
        "outputId": "5a012b06-91a8-4867-af0e-a03bb30a62aa"
      },
      "source": [
        "def mount_google_drive():\n",
        "\t'''\n",
        "\t# Functionality\n",
        "\t\tMount google drive. Since colab does not save files, we want to make it easier to directly access files in google drive.\n",
        "\t# Arguments\n",
        "\t\tNothing\n",
        "\t# Returns\n",
        "\t\tdrive_root: the working directory mounted\n",
        "\t'''\n",
        "\tmount_directory = \"/content/gdrive\"\n",
        "\tdrive = colab.drive\n",
        "\tdrive.mount(mount_directory, force_remount=True)\n",
        "\tdrive_root = mount_directory + \"/\" + list(filter(lambda x: x[0] != '.', os.listdir(mount_directory)))[0]\n",
        "\treturn drive_root\n",
        "\n",
        "ROOT_DIR =  mount_google_drive() + \"/goemotion/\"\n",
        "CHECKPOINT_ROOT = ROOT_DIR+ \"goemotion-ckpt/original/checkpoint-10000\""
      ],
      "execution_count": 7,
      "outputs": [
        {
          "output_type": "stream",
          "text": [
            "Mounted at /content/gdrive\n"
          ],
          "name": "stdout"
        }
      ]
    },
    {
      "cell_type": "markdown",
      "metadata": {
        "id": "t5KIaRKJU75a"
      },
      "source": [
        "## Model Class"
      ]
    },
    {
      "cell_type": "code",
      "metadata": {
        "id": "hERifRwsCgvD"
      },
      "source": [
        "class BertForMultiLabelClassification(BertPreTrainedModel):\n",
        "    def __init__(self, config):\n",
        "        super().__init__(config)\n",
        "        self.num_labels = config.num_labels\n",
        "\n",
        "        self.bert = BertModel(config)\n",
        "        self.dropout = nn.Dropout(config.hidden_dropout_prob)\n",
        "        self.classifier = nn.Linear(config.hidden_size, self.config.num_labels)\n",
        "        self.loss_fct = nn.BCEWithLogitsLoss()\n",
        "\n",
        "        self.init_weights()\n",
        "\n",
        "    def forward(\n",
        "            self,\n",
        "            input_ids=None,\n",
        "            attention_mask=None,\n",
        "            token_type_ids=None,\n",
        "            position_ids=None,\n",
        "            head_mask=None,\n",
        "            inputs_embeds=None,\n",
        "            labels=None,\n",
        "    ):\n",
        "        outputs = self.bert(\n",
        "            input_ids,\n",
        "            attention_mask=attention_mask,\n",
        "            token_type_ids=token_type_ids,\n",
        "            position_ids=position_ids,\n",
        "            head_mask=head_mask,\n",
        "            inputs_embeds=inputs_embeds,\n",
        "        )\n",
        "        pooled_output = outputs[1]\n",
        "\n",
        "        pooled_output = self.dropout(pooled_output)\n",
        "        logits = self.classifier(pooled_output)\n",
        "\n",
        "        outputs = (logits,) + outputs[2:]  # add hidden states and attention if they are here\n",
        "\n",
        "        if labels is not None:\n",
        "            loss = self.loss_fct(logits, labels)\n",
        "            outputs = (loss,) + outputs\n",
        "\n",
        "        return outputs  # (loss), logits, (hidden_states), (attentions)"
      ],
      "execution_count": 8,
      "outputs": []
    },
    {
      "cell_type": "markdown",
      "metadata": {
        "id": "ULFD2CGnU4VJ"
      },
      "source": [
        "## Multi-label inference pipeline"
      ]
    },
    {
      "cell_type": "code",
      "metadata": {
        "id": "YKPMei60PIoZ"
      },
      "source": [
        "class MultiLabelPipeline(Pipeline):\n",
        "    def __init__(\n",
        "            self,\n",
        "            model: Union[\"PreTrainedModel\", \"TFPreTrainedModel\"],\n",
        "            tokenizer: PreTrainedTokenizer,\n",
        "            modelcard: Optional[ModelCard] = None,\n",
        "            framework: Optional[str] = None,\n",
        "            task: str = \"\",\n",
        "            args_parser: ArgumentHandler = None,\n",
        "            device: int = -1,\n",
        "            binary_output: bool = False,\n",
        "            threshold: float = 0.3\n",
        "    ):\n",
        "        super().__init__(\n",
        "            model=model,\n",
        "            tokenizer=tokenizer,\n",
        "            modelcard=modelcard,\n",
        "            framework=framework,\n",
        "            args_parser=args_parser,\n",
        "            device=device,\n",
        "            binary_output=binary_output,\n",
        "            task=task\n",
        "        )\n",
        "\n",
        "        self.threshold = threshold\n",
        "\n",
        "    def __call__(self, *args, **kwargs):\n",
        "        outputs = super().__call__(*args, **kwargs)\n",
        "        scores = 1 / (1 + np.exp(-outputs))  # Sigmoid\n",
        "        results = []\n",
        "        for item in scores:\n",
        "            labels = []\n",
        "            scores = []\n",
        "            for idx, s in enumerate(item):\n",
        "                if s > self.threshold:\n",
        "                    labels.append(self.model.config.id2label[idx])\n",
        "                    scores.append(float(s))\n",
        "            results.append({\"labels\": labels, \"scores\": scores})\n",
        "        return results"
      ],
      "execution_count": 9,
      "outputs": []
    },
    {
      "cell_type": "markdown",
      "metadata": {
        "id": "RMbWJfoseqti"
      },
      "source": [
        "## Inference On Testset"
      ]
    },
    {
      "cell_type": "code",
      "metadata": {
        "id": "9-yX-nBYLY1w",
        "colab": {
          "base_uri": "https://localhost:8080/"
        },
        "outputId": "0b84c81d-0293-4a90-aea2-149239df17d4"
      },
      "source": [
        "tokenizer = BertTokenizer.from_pretrained(CHECKPOINT_ROOT)\n",
        "model = BertForMultiLabelClassification.from_pretrained(CHECKPOINT_ROOT)\n",
        "\n",
        "goemotions = MultiLabelPipeline(\n",
        "    model=model,\n",
        "    tokenizer=tokenizer,\n",
        "    threshold=0.3\n",
        ")\n",
        "\n",
        "texts = [\n",
        "    \"Hey that's a thought! Maybe we need [NAME] to be the celebrity vaccine endorsement!\",\n",
        "    \"it’s happened before?! love my hometown of beautiful new ken 😂😂\",\n",
        "    \"I love you, brother.\",\n",
        "    \"Troll, bro. They know they're saying stupid shit. The motherfucker does nothing but stink up libertarian subs talking shit\",\n",
        "]\n",
        "\n",
        "pprint(goemotions(texts))\n",
        "\n",
        "# Output\n",
        "#  [{'labels': ['neutral'], 'scores': [0.9750906]},\n",
        "#  {'labels': ['curiosity', 'love'], 'scores': [0.9694574, 0.9227462]},\n",
        "#  {'labels': ['love'], 'scores': [0.993483]},\n",
        "#  {'labels': ['anger'], 'scores': [0.99225825]}]"
      ],
      "execution_count": 10,
      "outputs": [
        {
          "output_type": "stream",
          "text": [
            "[{'labels': ['optimism'], 'scores': [0.32062143087387085]},\n",
            " {'labels': ['curiosity', 'love'],\n",
            "  'scores': [0.412200003862381, 0.8766248226165771]},\n",
            " {'labels': ['love'], 'scores': [0.9667580723762512]},\n",
            " {'labels': ['anger'], 'scores': [0.9185698628425598]}]\n"
          ],
          "name": "stdout"
        }
      ]
    },
    {
      "cell_type": "markdown",
      "metadata": {
        "id": "PAG9X4FCVKYa"
      },
      "source": [
        "## Load Test set and true labels"
      ]
    },
    {
      "cell_type": "code",
      "metadata": {
        "id": "bFdDWpSWEgcY"
      },
      "source": [
        "# Load labels and build dicts\n",
        "with open(ROOT_DIR + \"data/original/labels.txt\", \"r\") as f:\n",
        "  labels = f.read().splitlines()\n",
        "label2index = {v: k for k, v in enumerate(labels)}\n",
        "index2label = {k: v for k, v in enumerate(labels)}\n",
        "\n",
        "\n",
        "# Load test set, get test sents and ground truths\n",
        "df = pd.read_csv(ROOT_DIR + \"data/original/test.tsv\", sep='\\t', header=None, names=[\"sentence\", \"label\", \"encoding\"])\n",
        "sentences = df.sentence.tolist()\n",
        "ground_truths = []\n",
        "for x in df.label.tolist():\n",
        "  single_idxs = x.split(\",\")\n",
        "  single_labels = []\n",
        "  for label in single_idxs:\n",
        "    single_labels.append(index2label[int(label)])\n",
        "  ground_truths.append(single_labels)"
      ],
      "execution_count": 11,
      "outputs": []
    },
    {
      "cell_type": "code",
      "metadata": {
        "id": "JGV_2xe-KHZu"
      },
      "source": [
        "raw_predictions = []\n",
        "batch_size = 81\n",
        "num_batches = len(sentences) / batch_size\n",
        "\n",
        "i = 0\n",
        "while i < len(sentences):\n",
        "  raw_predictions += goemotions(sentences[i: i + batch_size])\n",
        "  i = i + batch_size\n",
        "\n",
        "with open(ROOT_DIR + \"data/original/predictions_epoch4.json\", 'w') as f:\n",
        "  json.dump(raw_predictions, f)"
      ],
      "execution_count": 13,
      "outputs": []
    },
    {
      "cell_type": "code",
      "metadata": {
        "id": "ifKtNZvPPXzV"
      },
      "source": [
        "with open(ROOT_DIR + \"data/original/predictions_epoch4.json\", 'r') as f:\n",
        "  raw_predictions = json.load(f)"
      ],
      "execution_count": 14,
      "outputs": []
    },
    {
      "cell_type": "code",
      "metadata": {
        "id": "OuxQMe7sRweS"
      },
      "source": [
        "predictions = [x[\"labels\"] for x in raw_predictions]"
      ],
      "execution_count": 15,
      "outputs": []
    },
    {
      "cell_type": "code",
      "metadata": {
        "colab": {
          "base_uri": "https://localhost:8080/"
        },
        "id": "23NtvvUZRxT-",
        "outputId": "fcb42c42-2fd4-4e9d-ddce-824a86c96db8"
      },
      "source": [
        "len(ground_truths) == len(predictions)"
      ],
      "execution_count": 16,
      "outputs": [
        {
          "output_type": "execute_result",
          "data": {
            "text/plain": [
              "True"
            ]
          },
          "metadata": {
            "tags": []
          },
          "execution_count": 16
        }
      ]
    },
    {
      "cell_type": "code",
      "metadata": {
        "colab": {
          "base_uri": "https://localhost:8080/"
        },
        "id": "PJVNXZ17m0X-",
        "outputId": "f5c206f7-8bd4-4b44-b6d0-23df547d2856"
      },
      "source": [
        "num_em = 0\n",
        "for i, (pred, truth) in enumerate(zip(predictions, ground_truths)):\n",
        "  if pred == truth:\n",
        "    num_em += 1\n",
        "print(num_em / len(predictions))"
      ],
      "execution_count": 17,
      "outputs": [
        {
          "output_type": "stream",
          "text": [
            "0.4300718629076838\n"
          ],
          "name": "stdout"
        }
      ]
    },
    {
      "cell_type": "code",
      "metadata": {
        "id": "C4axG-t-vMH4"
      },
      "source": [
        "def convert_onehot(inputs):\n",
        "  final_arr = np.zeros((len(inputs), len(label2index.keys())))\n",
        "  for i, labels in enumerate(inputs):\n",
        "    for label in labels:\n",
        "      final_arr[i, label2index[label]] = 1\n",
        "  return final_arr"
      ],
      "execution_count": 18,
      "outputs": []
    },
    {
      "cell_type": "code",
      "metadata": {
        "id": "zGfbAVRLwuMg"
      },
      "source": [
        "onehot_truths = convert_onehot(ground_truths)\n",
        "onehot_preds = convert_onehot(predictions)"
      ],
      "execution_count": 19,
      "outputs": []
    },
    {
      "cell_type": "code",
      "metadata": {
        "id": "xjadPCC3yH1Y"
      },
      "source": [
        "multilabel_confmat = multilabel_confusion_matrix(onehot_truths, onehot_preds)"
      ],
      "execution_count": 20,
      "outputs": []
    },
    {
      "cell_type": "code",
      "metadata": {
        "id": "PVBysHlIy89_"
      },
      "source": [
        "cls_report = {}\n",
        "for i in range(multilabel_confmat.shape[0]):\n",
        "  cls_report[index2label[i]] = {}\n",
        "  cls_report[index2label[i]][\"tn\"] = multilabel_confmat[i, 0, 0] + 1\n",
        "  cls_report[index2label[i]][\"fp\"] = multilabel_confmat[i, 0, 1] + 1\n",
        "  cls_report[index2label[i]][\"fn\"] = multilabel_confmat[i, 1, 0] + 1\n",
        "  cls_report[index2label[i]][\"tp\"] = multilabel_confmat[i, 1, 1] + 1\n",
        "  cls_report[index2label[i]][\"total\"] = cls_report[index2label[i]][\"tp\"] + cls_report[index2label[i]][\"fn\"]\n",
        "  cls_report[index2label[i]][\"precision\"] = cls_report[index2label[i]][\"tp\"] / (cls_report[index2label[i]][\"fp\"] + cls_report[index2label[i]][\"tp\"])\n",
        "  cls_report[index2label[i]][\"recall\"] = cls_report[index2label[i]][\"tp\"] / (cls_report[index2label[i]][\"fn\"] + cls_report[index2label[i]][\"tp\"])\n",
        "  cls_report[index2label[i]][\"f1\"] = 2 * cls_report[index2label[i]][\"precision\"] * cls_report[index2label[i]][\"recall\"] / (cls_report[index2label[i]][\"precision\"] + cls_report[index2label[i]][\"recall\"])"
      ],
      "execution_count": 37,
      "outputs": []
    },
    {
      "cell_type": "code",
      "metadata": {
        "colab": {
          "base_uri": "https://localhost:8080/"
        },
        "id": "7zq71Z6E7ZQZ",
        "outputId": "67df7281-ba47-48e9-ef25-64ebd04f7097"
      },
      "source": [
        "# Make a plot of the distribution of classes\n",
        "cls_report"
      ],
      "execution_count": 38,
      "outputs": [
        {
          "output_type": "execute_result",
          "data": {
            "text/plain": [
              "{'admiration': {'f1': 0.6654867256637168,\n",
              "  'fn': 130,\n",
              "  'fp': 248,\n",
              "  'precision': 0.6025641025641025,\n",
              "  'recall': 0.7430830039525692,\n",
              "  'tn': 4677,\n",
              "  'total': 506,\n",
              "  'tp': 376},\n",
              " 'amusement': {'f1': 0.8074957410562181,\n",
              "  'fn': 29,\n",
              "  'fp': 84,\n",
              "  'precision': 0.7383177570093458,\n",
              "  'recall': 0.8909774436090225,\n",
              "  'tn': 5081,\n",
              "  'total': 266,\n",
              "  'tp': 237},\n",
              " 'anger': {'f1': 0.5058548009367682,\n",
              "  'fn': 92,\n",
              "  'fp': 119,\n",
              "  'precision': 0.47577092511013214,\n",
              "  'recall': 0.54,\n",
              "  'tn': 5112,\n",
              "  'total': 200,\n",
              "  'tp': 108},\n",
              " 'annoyance': {'f1': 0.36962750716332377,\n",
              "  'fn': 193,\n",
              "  'fp': 247,\n",
              "  'precision': 0.34308510638297873,\n",
              "  'recall': 0.40062111801242234,\n",
              "  'tn': 4862,\n",
              "  'total': 322,\n",
              "  'tp': 129},\n",
              " 'approval': {'f1': 0.3925729442970822,\n",
              "  'fn': 205,\n",
              "  'fp': 253,\n",
              "  'precision': 0.3690773067331671,\n",
              "  'recall': 0.4192634560906516,\n",
              "  'tn': 4825,\n",
              "  'total': 353,\n",
              "  'tp': 148},\n",
              " 'caring': {'f1': 0.4429065743944636,\n",
              "  'fn': 73,\n",
              "  'fp': 88,\n",
              "  'precision': 0.42105263157894735,\n",
              "  'recall': 0.46715328467153283,\n",
              "  'tn': 5206,\n",
              "  'total': 137,\n",
              "  'tp': 64},\n",
              " 'confusion': {'f1': 0.45584045584045585,\n",
              "  'fn': 75,\n",
              "  'fp': 116,\n",
              "  'precision': 0.40816326530612246,\n",
              "  'recall': 0.5161290322580645,\n",
              "  'tn': 5160,\n",
              "  'total': 155,\n",
              "  'tp': 80},\n",
              " 'curiosity': {'f1': 0.554016620498615,\n",
              "  'fn': 86,\n",
              "  'fp': 236,\n",
              "  'precision': 0.45871559633027525,\n",
              "  'recall': 0.6993006993006993,\n",
              "  'tn': 4909,\n",
              "  'total': 286,\n",
              "  'tp': 200},\n",
              " 'desire': {'f1': 0.5064935064935064,\n",
              "  'fn': 46,\n",
              "  'fp': 30,\n",
              "  'precision': 0.5652173913043478,\n",
              "  'recall': 0.4588235294117647,\n",
              "  'tn': 5316,\n",
              "  'total': 85,\n",
              "  'tp': 39},\n",
              " 'disappointment': {'f1': 0.3061224489795919,\n",
              "  'fn': 108,\n",
              "  'fp': 96,\n",
              "  'precision': 0.3191489361702128,\n",
              "  'recall': 0.29411764705882354,\n",
              "  'tn': 5182,\n",
              "  'total': 153,\n",
              "  'tp': 45},\n",
              " 'disapproval': {'f1': 0.3993558776167472,\n",
              "  'fn': 145,\n",
              "  'fp': 228,\n",
              "  'precision': 0.3522727272727273,\n",
              "  'recall': 0.46096654275092935,\n",
              "  'tn': 4934,\n",
              "  'total': 269,\n",
              "  'tp': 124},\n",
              " 'disgust': {'f1': 0.4489795918367347,\n",
              "  'fn': 70,\n",
              "  'fp': 65,\n",
              "  'precision': 0.4583333333333333,\n",
              "  'recall': 0.44,\n",
              "  'tn': 5241,\n",
              "  'total': 125,\n",
              "  'tp': 55},\n",
              " 'embarrassment': {'f1': 0.4923076923076924,\n",
              "  'fn': 23,\n",
              "  'fp': 10,\n",
              "  'precision': 0.6153846153846154,\n",
              "  'recall': 0.41025641025641024,\n",
              "  'tn': 5382,\n",
              "  'total': 39,\n",
              "  'tp': 16},\n",
              " 'excitement': {'f1': 0.43290043290043284,\n",
              "  'fn': 55,\n",
              "  'fp': 76,\n",
              "  'precision': 0.3968253968253968,\n",
              "  'recall': 0.47619047619047616,\n",
              "  'tn': 5250,\n",
              "  'total': 105,\n",
              "  'tp': 50},\n",
              " 'fear': {'f1': 0.6629834254143645,\n",
              "  'fn': 20,\n",
              "  'fp': 41,\n",
              "  'precision': 0.594059405940594,\n",
              "  'recall': 0.75,\n",
              "  'tn': 5310,\n",
              "  'total': 80,\n",
              "  'tp': 60},\n",
              " 'gratitude': {'f1': 0.9057665260196905,\n",
              "  'fn': 32,\n",
              "  'fp': 35,\n",
              "  'precision': 0.9019607843137255,\n",
              "  'recall': 0.9096045197740112,\n",
              "  'tn': 5042,\n",
              "  'total': 354,\n",
              "  'tp': 322},\n",
              " 'grief': {'f1': 0.2,\n",
              "  'fn': 7,\n",
              "  'fp': 1,\n",
              "  'precision': 0.5,\n",
              "  'recall': 0.125,\n",
              "  'tn': 5422,\n",
              "  'total': 8,\n",
              "  'tp': 1},\n",
              " 'joy': {'f1': 0.6037735849056605,\n",
              "  'fn': 51,\n",
              "  'fp': 96,\n",
              "  'precision': 0.5384615384615384,\n",
              "  'recall': 0.6871165644171779,\n",
              "  'tn': 5172,\n",
              "  'total': 163,\n",
              "  'tp': 112},\n",
              " 'love': {'f1': 0.7884615384615384,\n",
              "  'fn': 35,\n",
              "  'fp': 75,\n",
              "  'precision': 0.7321428571428571,\n",
              "  'recall': 0.8541666666666666,\n",
              "  'tn': 5116,\n",
              "  'total': 240,\n",
              "  'tp': 205},\n",
              " 'nervousness': {'f1': 0.391304347826087,\n",
              "  'fn': 16,\n",
              "  'fp': 12,\n",
              "  'precision': 0.42857142857142855,\n",
              "  'recall': 0.36,\n",
              "  'tn': 5394,\n",
              "  'total': 25,\n",
              "  'tp': 9},\n",
              " 'neutral': {'f1': 0.6595394736842105,\n",
              "  'fn': 586,\n",
              "  'fp': 656,\n",
              "  'precision': 0.6471221086605702,\n",
              "  'recall': 0.6724427054220234,\n",
              "  'tn': 2986,\n",
              "  'total': 1789,\n",
              "  'tp': 1203},\n",
              " 'optimism': {'f1': 0.558974358974359,\n",
              "  'fn': 79,\n",
              "  'fp': 93,\n",
              "  'precision': 0.5396039603960396,\n",
              "  'recall': 0.5797872340425532,\n",
              "  'tn': 5150,\n",
              "  'total': 188,\n",
              "  'tp': 109},\n",
              " 'pride': {'f1': 0.09999999999999999,\n",
              "  'fn': 17,\n",
              "  'fp': 1,\n",
              "  'precision': 0.5,\n",
              "  'recall': 0.05555555555555555,\n",
              "  'tn': 5412,\n",
              "  'total': 18,\n",
              "  'tp': 1},\n",
              " 'realization': {'f1': 0.225,\n",
              "  'fn': 120,\n",
              "  'fp': 66,\n",
              "  'precision': 0.2903225806451613,\n",
              "  'recall': 0.1836734693877551,\n",
              "  'tn': 5218,\n",
              "  'total': 147,\n",
              "  'tp': 27},\n",
              " 'relief': {'f1': 0.13333333333333336,\n",
              "  'fn': 12,\n",
              "  'fp': 1,\n",
              "  'precision': 0.5,\n",
              "  'recall': 0.07692307692307693,\n",
              "  'tn': 5417,\n",
              "  'total': 13,\n",
              "  'tp': 1},\n",
              " 'remorse': {'f1': 0.6713286713286712,\n",
              "  'fn': 10,\n",
              "  'fp': 37,\n",
              "  'precision': 0.5647058823529412,\n",
              "  'recall': 0.8275862068965517,\n",
              "  'tn': 5336,\n",
              "  'total': 58,\n",
              "  'tp': 48},\n",
              " 'sadness': {'f1': 0.5240963855421686,\n",
              "  'fn': 71,\n",
              "  'fp': 87,\n",
              "  'precision': 0.5,\n",
              "  'recall': 0.5506329113924051,\n",
              "  'tn': 5186,\n",
              "  'total': 158,\n",
              "  'tp': 87},\n",
              " 'surprise': {'f1': 0.5434782608695653,\n",
              "  'fn': 68,\n",
              "  'fp': 58,\n",
              "  'precision': 0.5639097744360902,\n",
              "  'recall': 0.5244755244755245,\n",
              "  'tn': 5230,\n",
              "  'total': 143,\n",
              "  'tp': 75}}"
            ]
          },
          "metadata": {
            "tags": []
          },
          "execution_count": 38
        }
      ]
    },
    {
      "cell_type": "code",
      "metadata": {
        "id": "FhBDdC0EV-E6"
      },
      "source": [
        "def get_attr_class(cls_report, metric_name):\n",
        "  return [x[metric_name] for x in list(cls_report.values())]\n"
      ],
      "execution_count": 30,
      "outputs": []
    },
    {
      "cell_type": "code",
      "metadata": {
        "colab": {
          "base_uri": "https://localhost:8080/",
          "height": 352
        },
        "id": "lBJIra-yKjFC",
        "outputId": "dbae59ae-2a63-4dec-81d1-62bea5773599"
      },
      "source": [
        "fig = plt.figure()\n",
        "ax = fig.add_axes([0,0,1,1])\n",
        "ax.set_title('Number of instances per class in the test set')\n",
        "metric_name = \"total\"\n",
        "ax.bar(list(label2index.values()), [x[metric_name] for x in list(cls_report.values())])\n",
        "plt.show()"
      ],
      "execution_count": 39,
      "outputs": [
        {
          "output_type": "display_data",
          "data": {
            "image/png": "[encoded data removed]",
            "text/plain": [
              "<Figure size 432x288 with 1 Axes>"
            ]
          },
          "metadata": {
            "tags": [],
            "needs_background": "light"
          }
        }
      ]
    },
    {
      "cell_type": "code",
      "metadata": {
        "colab": {
          "base_uri": "https://localhost:8080/",
          "height": 352
        },
        "id": "ryrGBSzOV4NQ",
        "outputId": "217279d1-7e53-4c72-ce86-751077790d0a"
      },
      "source": [
        "fig = plt.figure()\n",
        "ax = fig.add_axes([0,0,1,1])\n",
        "ax.set_title('F1 score per class in the test set')\n",
        "metric_name = \"f1\"\n",
        "ax.bar(list(label2index.values()), [x[metric_name] for x in list(cls_report.values())])\n",
        "plt.show()"
      ],
      "execution_count": 40,
      "outputs": [
        {
          "output_type": "display_data",
          "data": {
            "image/png": "[encoded data removed]",
            "text/plain": [
              "<Figure size 432x288 with 1 Axes>"
            ]
          },
          "metadata": {
            "tags": [],
            "needs_background": "light"
          }
        }
      ]
    },
    {
      "cell_type": "code",
      "metadata": {
        "id": "O0YdQt6pWJnI"
      },
      "source": [
        ""
      ],
      "execution_count": 32,
      "outputs": []
    }
  ]
}